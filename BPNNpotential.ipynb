{
 "cells": [
  {
   "cell_type": "markdown",
   "id": "7d369744",
   "metadata": {},
   "source": [
    "**J. Behler and M. Parrinello, Generalized Neural-Network Representation of High-Dimensional Potential-Energy Surfaces, PRL 98, 146401 (2007)**"
   ]
  },
  {
   "cell_type": "code",
   "execution_count": 1,
   "id": "318484ea",
   "metadata": {
    "ExecuteTime": {
     "end_time": "2022-09-27T16:03:28.735611Z",
     "start_time": "2022-09-27T16:03:20.881362Z"
    }
   },
   "outputs": [],
   "source": [
    "from math import exp, pow, sqrt, tanh, pi, cos, ceil\n",
    "import matplotlib.pyplot as plt\n",
    "from typing import Sequence, Tuple\n",
    "import torch\n",
    "import torch.nn as nn\n",
    "import torch.nn.functional as F\n",
    "from torch import Tensor\n",
    "from torch.utils.data import TensorDataset, DataLoader, random_split\n",
    "import pytorch_lightning as pl\n",
    "import numpy as np\n",
    "np.set_printoptions(threshold=np.inf)\n",
    "import random\n",
    "from pytorch_lightning import loggers as pl_loggers\n",
    "torch.set_printoptions(threshold=np.inf)\n",
    "from sklearn.model_selection import train_test_split"
   ]
  },
  {
   "cell_type": "code",
   "execution_count": 2,
   "id": "6e8da734",
   "metadata": {
    "ExecuteTime": {
     "end_time": "2022-09-27T16:03:28.794939Z",
     "start_time": "2022-09-27T16:03:28.746949Z"
    }
   },
   "outputs": [],
   "source": [
    "#Require Input\n",
    "Num_atom = 14  # QM area\n",
    "Num_atom_all = 6041 # QM and MM area\n",
    "Num_config = 9 #Number of snapshots\n",
    "\n",
    "train_ratio = 0.75\n",
    "validation_ratio = 0.15\n",
    "test_ratio = 0.10\n",
    "\n",
    "Num_train = int(Num_config * train_ratio) # Number of training set\n",
    "Num_valid = int(Num_config * validation_ratio) # Number of valid set\n",
    "Num_test = Num_config -  Num_train - Num_valid #Number of test set\n",
    "\n",
    "element_list = ['C', 'C', 'H', 'H', 'H', 'C', 'H', 'H', 'O', 'C', 'C', 'H', 'H', 'H']\n",
    "\n",
    "charge_of_water = [-0.834, 0.417, 0.417] # TIP3P Water\n"
   ]
  },
  {
   "attachments": {
    "molecular.jpg": {
     "image/jpeg": "[encoded data removed]"
    }
   },
   "cell_type": "markdown",
   "id": "182b4c5b",
   "metadata": {},
   "source": [
    "![molecular.jpg](attachment:molecular.jpg)"
   ]
  },
  {
   "cell_type": "code",
   "execution_count": 3,
   "id": "6e847a86",
   "metadata": {},
   "outputs": [
    {
     "name": "stdout",
     "output_type": "stream",
     "text": [
      "[0, 0, 1, 1, 1, 0, 1, 1, 2, 0, 0, 1, 1, 1]\n"
     ]
    }
   ],
   "source": [
    "# make index and type_list of element\n",
    "unique_element_list = np.unique(element_list)\n",
    "Num_element = unique_element_list.size\n",
    "\n",
    "element_index_in_molecule = []\n",
    "for i_element in range(Num_element):\n",
    "    new_list = [i for i in range(np.array(element_list).size) if element_list[i] == unique_element_list[i_element]]\n",
    "    element_index_in_molecule.append(new_list)\n",
    "    \n",
    "type_list = []\n",
    "for i_type in range(np.array(element_list).size):\n",
    "    j, = np.where(unique_element_list == element_list[i_type])\n",
    "    type_list.append(j[0])\n",
    "\n",
    "print(type_list)\n",
    "C_atom = element_index_in_molecule[0] #index of C atom\n",
    "O_atom = element_index_in_molecule[1] #index of O atom\n",
    "H_atom = element_index_in_molecule[2] #index of H atom"
   ]
  },
  {
   "cell_type": "code",
   "execution_count": 4,
   "id": "34fa415f",
   "metadata": {},
   "outputs": [],
   "source": [
    "## symmetric_haparm list\n",
    "\n",
    "def random_hparam(Num_hparams,Num_atomtype,Range_hparam=[[0.1,4.0],[0.0,4.0],[0.1,4.0],[6,8]]):\n",
    "    symmetric_hparam=[]\n",
    "    Num_hparam=len(Range_hparam)\n",
    "    Delta_hpara=np.zeros(Num_hparam)\n",
    "    for num_hpara_i in range(Num_hparam):\n",
    "        Delta_hpara[num_hpara_i] = Range_hparam[num_hpara_i][1]-Range_hparam[num_hpara_i][0]\n",
    "    #print(Delta_hpara)\n",
    "        \n",
    "    for Hparams_i in range(Num_hparams):\n",
    "        tem_np_hparam=np.zeros((Num_atomtype,Num_hparam))\n",
    "        for Atomtype_j in range(Num_atomtype):\n",
    "            for Num_hpara_k in range(Num_hparam):\n",
    "                tem_np_hparam[Atomtype_j,Num_hpara_k]=random.random()*Delta_hpara[Num_hpara_k]+Range_hparam[Num_hpara_k][0]\n",
    "        symmetric_hparam.append(tem_np_hparam)\n",
    "    symmetric_hparam.append('stationary')\n",
    "    return symmetric_hparam\n",
    "\n",
    "cba= 0.52917724\n",
    "wcba = (1/cba)**2\n",
    "'''\n",
    "# random generate hparam\n",
    "symmetric_hparam=random_hparam(Num_hparams=100,Num_atomtype=Num_element,Range_hparam=[[0.1,4.0],[0.0,4.0],[0.1,4.0],[6,8]])\n",
    "\n",
    "Num_feature = 3*(len(symmetric_hparam)-1)+1\n",
    "'''\n",
    "\n",
    "#joint hparam\n",
    "symmetric_hparam1=[ [0.4*wcba, 0.0, 0.2*wcba, 6.0],\n",
    "                   [0.1*wcba, 0.0, 0.8*wcba, 6.0],\n",
    "                   [0.4*wcba, 0.0, 0.4*wcba, 6.0] ]   #geta, g1rs, g2zeta, rc\n",
    "symmetric_hparam2=[ [0.6*wcba, 0.0, 0.3*wcba, 6.0],\n",
    "                   [0.2*wcba, 0.0, 1.2*wcba, 6.0],\n",
    "                   [0.6*wcba, 0.0, 0.6*wcba, 6.0] ]   #geta, g1rs, g2zeta, rc\n",
    "symmetric_hparam3=[ [0.8*wcba, 0.0, 0.4*wcba, 6.0], #0.4 to 1.0\n",
    "                   [0.2*wcba, 0.0, 1.6*wcba, 6.0],\n",
    "                   [0.8*wcba, 0.0, 0.8*wcba, 6] ]   #geta, g1rs, g2zeta, rc\n",
    "\n",
    "symmetric_hparam=[symmetric_hparam1,symmetric_hparam2,symmetric_hparam3,'stationary']\n",
    "Num_feature = 2*(len(symmetric_hparam)-1)+1 # one G1 and one G2 per set of hyperparameter and one Gv, with lamda=1 \n",
    "\n"
   ]
  },
  {
   "cell_type": "code",
   "execution_count": 5,
   "id": "77560d92",
   "metadata": {
    "ExecuteTime": {
     "end_time": "2022-09-27T16:03:28.809934Z",
     "start_time": "2022-09-27T16:03:28.794939Z"
    }
   },
   "outputs": [],
   "source": [
    "#read coordinate and energy of each snapshot\n",
    "def readCxyz(n_files, path, n_atoms):\n",
    "    '''Read Cartesian coordinates'''\n",
    "    coord = np.empty([n_files, n_atoms, 3])\n",
    "    for idx_file in range( n_files ):\n",
    "        filename = path + str(idx_file+1) + '.xyz'\n",
    "        fc = open(filename,'r')\n",
    "        for idx_atom in range(n_atoms):\n",
    "            line = fc.readline()\n",
    "            if not line:\n",
    "               break\n",
    "            _, coord_x, coord_y, coord_z = line.strip().split()\n",
    "            coord[idx_file][idx_atom][0] = float(coord_x)\n",
    "            coord[idx_file][idx_atom][1] = float(coord_y)\n",
    "            coord[idx_file][idx_atom][2] = float(coord_z)\n",
    "        fc.close()\n",
    "    return coord\n",
    "\n",
    "\n",
    "def readE(n_data, filename):\n",
    "    ''' Read E '''\n",
    "    energy = np.empty(n_data)\n",
    "    e1 = open(filename,'r')\n",
    "    for idx_data in range( n_data ):\n",
    "        line = e1.readline()\n",
    "        if not line:\n",
    "           break\n",
    "        energy[idx_data] = float(line.strip().split()[1])\n",
    "    e1.close()\n",
    "    return energy\n"
   ]
  },
  {
   "cell_type": "code",
   "execution_count": 6,
   "id": "9cf0b9b7",
   "metadata": {
    "ExecuteTime": {
     "end_time": "2022-09-27T16:03:53.077927Z",
     "start_time": "2022-09-27T16:03:28.809934Z"
    }
   },
   "outputs": [],
   "source": [
    "filename_E = 'Energy.dat'\n",
    "path_xyz='./xyz/'\n",
    "coord = readCxyz(Num_config, path_xyz, Num_atom_all)\n",
    "energy = readE(Num_config, filename_E)\n",
    "\n",
    "coord_train, coord_test, energy_train, energy_test = train_test_split(coord, energy, test_size=1 - train_ratio)\n",
    "coord_valid, coord_test, energy_valid, energy_test = train_test_split(coord_test, energy_test, test_size=test_ratio/(test_ratio + validation_ratio)) "
   ]
  },
  {
   "cell_type": "code",
   "execution_count": 7,
   "id": "889638cc",
   "metadata": {
    "ExecuteTime": {
     "end_time": "2022-09-27T16:03:53.107968Z",
     "start_time": "2022-09-27T16:03:53.077927Z"
    }
   },
   "outputs": [],
   "source": [
    "#Package parameters to class\n",
    "class nn_param (object):\n",
    "    def __init__(self):\n",
    "        self.geta = None\n",
    "        self.g1rs = None\n",
    "        self.g2zeta = None\n",
    "        self.ctrc = None\n",
    "        self.Num_atom = None\n",
    "        self.Num_atom_all = None\n",
    "        self.Num_conf = None\n",
    "        self.Lenhparam = None\n",
    "\n",
    "    def configuration(self, Num_atom, Num_atom_all, Num_conf, type_list, symmetric_hparam):\n",
    "        self.Num_atom = Num_atom\n",
    "        self.Num_atom_all = Num_atom_all\n",
    "        self.Num_conf = Num_conf\n",
    "        \n",
    "        \n",
    "        if symmetric_hparam[-1] =='fixed' or 'stationary':\n",
    "            self.Lenhparam=len(symmetric_hparam)-1\n",
    "            self.geta   = np.zeros((self.Num_atom,self.Lenhparam))\n",
    "            self.g1rs  = np.zeros((self.Num_atom,self.Lenhparam))\n",
    "            self.g2zeta   = np.zeros((self.Num_atom,self.Lenhparam))\n",
    "            self.ctrc  = np.zeros((self.Num_atom,self.Lenhparam))\n",
    "        else:\n",
    "            print('ERROR:End element of symmetric_hparam should be str type')\n",
    "        \n",
    "\n",
    "        for i in range(self.Num_atom):\n",
    "            for j in range(self.Lenhparam):\n",
    "                self.geta[i,j]  = symmetric_hparam[j][type_list[i]][0]\n",
    "                self.g1rs[i,j] = symmetric_hparam[j][type_list[i]][1]\n",
    "                self.g2zeta[i,j]  = symmetric_hparam[j][type_list[i]][2]\n",
    "                self.ctrc[i,j] = symmetric_hparam[j][type_list[i]][3]\n",
    "\n",
    "param_train = nn_param() #all the input parameters in a class\n",
    "param_valid = nn_param()\n",
    "param_test  = nn_param()\n",
    "\n",
    "param_train.configuration(Num_atom, Num_atom_all, Num_train, type_list, symmetric_hparam)\n",
    "param_valid.configuration(Num_atom, Num_atom_all, Num_valid, type_list, symmetric_hparam)\n",
    "param_test.configuration(Num_atom, Num_atom_all, Num_test, type_list, symmetric_hparam)\n"
   ]
  },
  {
   "cell_type": "code",
   "execution_count": 10,
   "id": "76d79ec4",
   "metadata": {
    "ExecuteTime": {
     "end_time": "2022-09-27T16:03:53.167687Z",
     "start_time": "2022-09-27T16:03:53.117612Z"
    }
   },
   "outputs": [],
   "source": [
    "class molecule(object):\n",
    "    def __init__(self, nn_param):\n",
    "        self.Num_atom = nn_param.Num_atom\n",
    "        self.Num_atom_all = nn_param.Num_atom_all\n",
    "        self.geta = nn_param.geta\n",
    "        self.g1rs = nn_param.g1rs\n",
    "        self.g2zeta = nn_param.g2zeta\n",
    "        self.ctrc = nn_param.ctrc\n",
    "        self.Len_hparam =nn_param.Lenhparam\n",
    "        \n",
    "        self.g1 = np.zeros((self.Num_atom,self.Len_hparam))\n",
    "        self.g2 = np.zeros((self.Num_atom,self.Len_hparam))\n",
    "        self.gv = np.zeros((self.Num_atom,1))\n",
    "    \n",
    "    def distance(self, r1, r2):\n",
    "        \n",
    "\n",
    "        return sqrt((r1[0]-r2[0])*(r1[0]-r2[0]) + (r1[1]-r2[1])*(r1[1]-r2[1]) + (r1[2]-r2[2])*(r1[2]-r2[2])) # x*x is better than x**2 if x<2**30 \n",
    "\n",
    "    def cosijk(self,d1, d2, d3):\n",
    "\n",
    "        return (d1*d1 + d3*d3 - d2*d2)/(2 * d1 * d3)\n",
    "        \n",
    "    def calc_feature(self, coord, charge_of_water):\n",
    "        \n",
    "        #dist\n",
    "        dist = np.empty([self.Num_atom, self.Num_atom_all])\n",
    "        for i_atom in range(self.Num_atom):\n",
    "            for j_atom in range(self.Num_atom_all):\n",
    "                if j_atom == i_atom:\n",
    "                    pass\n",
    "                else:\n",
    "                    dist[i_atom, j_atom] = self.distance(coord[i_atom, :], coord[j_atom, :])\n",
    "        #fc\n",
    "        fc = np.empty([self.Num_atom, self.Num_atom,self.Len_hparam])          \n",
    "        for n_lenhparam in range(self.Len_hparam):\n",
    "            for i_atom in range(self.Num_atom):\n",
    "                for j_atom in range(i_atom+1, self.Num_atom):\n",
    "                    dist_ij = dist[i_atom, j_atom]\n",
    "                    if dist_ij <= self.ctrc[i_atom,n_lenhparam]:\n",
    "                        fc[i_atom, j_atom,n_lenhparam] =  0.5 * ( cos( pi * dist_ij / self.ctrc[i_atom,n_lenhparam] ) + 1 )\n",
    "                        #fc_tanh[i_atom, j_atom,n_lenhparam]=tanh(tanh(tanh(1-(dist_ij / rc[i_atom,n_lenhparam]))))\n",
    "                    else:\n",
    "                        fc[i_atom, j_atom,n_lenhparam] =  0.0\n",
    "                    fc[j_atom, i_atom,n_lenhparam] = fc[i_atom, j_atom,n_lenhparam]\n",
    "                    #fc_tanh[j_atom, i_atom,n_lenhparam] = fc_tanh[i_atom, j_atom,n_lenhparam]\n",
    "        #cal g1\n",
    "        for n_lenhparam in range(self.Len_hparam):\n",
    "            for i_atom in range(self.Num_atom):\n",
    "                for j_atom in range(self.Num_atom):\n",
    "                    if j_atom == i_atom:\n",
    "                        pass\n",
    "                    else:\n",
    "                        self.g1[i_atom,n_lenhparam] += exp( -self.geta[i_atom,n_lenhparam] * \\\n",
    "                        ( (dist[i_atom, j_atom] - self.g1rs[i_atom,n_lenhparam])**2 ) )* fc[j_atom, i_atom,n_lenhparam]\n",
    "\n",
    "                        \n",
    "                        \n",
    "        #cal g2\n",
    "        for n_lenhparam in range(self.Len_hparam):\n",
    "            for i_atom in range(self.Num_atom):\n",
    "                for j_atom in range(self.Num_atom):\n",
    "                    if j_atom == i_atom:\n",
    "                        pass\n",
    "                    else:\n",
    "                        for k_atom in range(self.Num_atom):\n",
    "                            if k_atom  == j_atom :\n",
    "                                pass\n",
    "                            elif k_atom == i_atom:\n",
    "                                pass\n",
    "                            else:\n",
    "                                #self.g2[i_atom,2*n_lenhparam] += 2**(1-self.g2zeta[i_atom,n_lenhparam])*( ( 1 + self.cosijk( dist[j_atom, k_atom], dist[i_atom, k_atom], dist[i_atom, j_atom] ) )\\\n",
    "                                #**(self.g2zeta[i_atom,n_lenhparam])) *exp( -self.geta[i_atom,n_lenhparam] * ( dist[i_atom, j_atom]**2 + dist[i_atom, k_atom]**2 + dist[i_atom, k_atom]**2) ) \\\n",
    "                                #*fc[j_atom, i_atom,n_lenhparam] * fc[k_atom, i_atom,n_lenhparam] * fc[j_atom, k_atom,n_lenhparam]\n",
    "                                #self.g2[i_atom,2*n_lenhparam+1] += 2**(1-self.g2zeta[i_atom,n_lenhparam])*( ( 1 - self.cosijk( dist[j_atom, k_atom], dist[i_atom, k_atom], dist[i_atom, j_atom] ) )\\\n",
    "                                #**(self.g2zeta[i_atom,n_lenhparam])) *exp( -self.geta[i_atom,n_lenhparam] * ( dist[i_atom, j_atom]**2 + dist[i_atom, k_atom]**2 + dist[i_atom, k_atom]**2) ) \\\n",
    "                                #*fc[j_atom, i_atom,n_lenhparam] * fc[k_atom, i_atom,n_lenhparam] * fc[j_atom, k_atom,n_lenhparam]\n",
    "                                self.g2[i_atom,n_lenhparam] += ( ( 1 + self.cosijk( dist[i_atom, k_atom],dist[j_atom, k_atom], dist[i_atom, j_atom] ) )\\\n",
    "                                **(self.g2zeta[i_atom,n_lenhparam])) *exp( -self.geta[i_atom,n_lenhparam] * ( dist[i_atom, j_atom]**2 + dist[i_atom, k_atom]**2 + dist[i_atom, k_atom]**2) ) \\\n",
    "                                *fc[j_atom, i_atom,n_lenhparam] * fc[k_atom, i_atom,n_lenhparam] * fc[j_atom, k_atom,n_lenhparam]\n",
    "\n",
    "            \n",
    "        #cal gv\n",
    "        for i_atom in range(self.Num_atom):\n",
    "            for j_atom in range(self.Num_atom, self.Num_atom_all):\n",
    "                if (j_atom - Num_atom) % 3 == 0:\n",
    "                    self.gv[i_atom,0] += charge_of_water[0]/(dist[i_atom, j_atom]**2)\n",
    "                else:\n",
    "                    self.gv[i_atom,0] += charge_of_water[1]/(dist[i_atom, j_atom]**2)                        \n",
    "                        "
   ]
  },
  {
   "cell_type": "code",
   "execution_count": 11,
   "id": "150cfcb1",
   "metadata": {
    "ExecuteTime": {
     "end_time": "2022-09-27T16:12:15.800381Z",
     "start_time": "2022-09-27T16:03:53.167687Z"
    }
   },
   "outputs": [],
   "source": [
    "snapshots_train = [molecule(param_train) for i_conf in range(Num_train)]\n",
    "snapshots_valid = [molecule(param_valid) for i_conf in range(Num_valid)]\n",
    "snapshots_test = [molecule(param_test) for i_conf in range(Num_test)]\n",
    "\n",
    "for i_conf in range(Num_train):\n",
    "    snapshots_train[i_conf].calc_feature(coord_train[i_conf,:,:], charge_of_water)\n",
    "    \n",
    "for i_conf in range(Num_valid):\n",
    "    snapshots_valid[i_conf].calc_feature(coord_valid[i_conf,:,:], charge_of_water)\n",
    "    \n",
    "for i_conf in range(Num_test):\n",
    "    snapshots_test[i_conf].calc_feature(coord_test[i_conf,:,:], charge_of_water)"
   ]
  },
  {
   "cell_type": "code",
   "execution_count": null,
   "id": "9fd5306e",
   "metadata": {
    "ExecuteTime": {
     "end_time": "2022-09-27T16:12:15.847258Z",
     "start_time": "2022-09-27T16:12:15.805370Z"
    }
   },
   "outputs": [],
   "source": [
    "input_feature_train = np.empty(shape=[0, Num_atom * Num_feature])\n",
    "input_feature_valid = np.empty(shape=[0, Num_atom * Num_feature])\n",
    "input_feature_test  = np.empty(shape=[0, Num_atom * Num_feature])\n",
    "\n",
    "for i_conf in range(Num_train):\n",
    "    input_feature_train = np.append(input_feature_train, [np.concatenate((snapshots_train[i_conf].g1.ravel(), snapshots_train[i_conf].g2.ravel(), snapshots_train[i_conf].gv.ravel()))], axis = 0)\n",
    "    \n",
    "for i_conf in range(Num_valid):\n",
    "    input_feature_valid = np.append(input_feature_valid, [np.concatenate((snapshots_valid[i_conf].g1.ravel(), snapshots_valid[i_conf].g2.ravel(), snapshots_valid[i_conf].gv.ravel()))], axis = 0)\n",
    "    \n",
    "for i_conf in range(Num_test):\n",
    "    input_feature_test = np.append(input_feature_test, [np.concatenate((snapshots_test[i_conf].g1.ravel(), snapshots_test[i_conf].g2.ravel(), snapshots_test[i_conf].gv.ravel()))], axis = 0)\n"
   ]
  },
  {
   "cell_type": "code",
   "execution_count": null,
   "id": "70caf97d",
   "metadata": {
    "ExecuteTime": {
     "end_time": "2022-09-27T16:12:16.026092Z",
     "start_time": "2022-09-27T16:12:15.850251Z"
    }
   },
   "outputs": [],
   "source": [
    "#pytorch tensordataset\n",
    "device = torch.device(\"cuda:0\" if torch.cuda.is_available() else \"cpu\")\n",
    "\n",
    "input_train = torch.from_numpy(input_feature_train.astype(np.float32)).to(device)\n",
    "input_valid = torch.from_numpy(input_feature_valid.astype(np.float32)).to(device)\n",
    "input_test = torch.from_numpy(input_feature_test.astype(np.float32)).to(device)\n",
    "\n",
    "output_train = torch.from_numpy(energy_train.astype(np.float32)).to(device)\n",
    "output_valid = torch.from_numpy(energy_valid.astype(np.float32)).to(device)\n",
    "output_test = torch.from_numpy(energy_test.astype(np.float32)).to(device)\n",
    "\n",
    "\n",
    "DLparams = {'batch_size': 40,\n",
    "            'shuffle': True}\n",
    "\n",
    "val_DLparams = {'batch_size': Num_valid,\n",
    "                'shuffle': False}\n",
    "\n",
    "test_DLparams = {'batch_size': Num_test,\n",
    "                'shuffle': False}\n",
    "\n",
    "dataset_train = TensorDataset(input_train, output_train)\n",
    "dataset_valid = TensorDataset(input_valid, output_valid)\n",
    "dataset_test = TensorDataset(input_test, output_test)\n",
    "\n",
    "\n",
    "loader_train = DataLoader(dataset_train, **DLparams)\n",
    "loader_valid = DataLoader(dataset_valid, **val_DLparams)\n",
    "loader_test = DataLoader(dataset_test, **test_DLparams)"
   ]
  },
  {
   "cell_type": "code",
   "execution_count": null,
   "id": "5a8e0e88",
   "metadata": {},
   "outputs": [],
   "source": [
    "print(input_feature_train.shape) # 98 = 14 * 7=42+42+14\n",
    "print('G1 example',input_train[0,:42])\n",
    "print('G2 example',input_train[0,42:84])\n",
    "\n",
    "loginput=np.log10(input_feature_train)\n",
    "G1mean=np.mean(input_feature_train[:,:42])\n",
    "G1logmean=np.mean(loginput[:,:42])\n",
    "print('G1mean',G1mean,'G1logmean',G1logmean)\n",
    "\n",
    "loginput=np.log10(input_feature_train)\n",
    "G2mean=np.mean(input_feature_train[:,42:84])\n",
    "G2logmean=np.mean(loginput[:,42:84])\n",
    "print('G2mean',G2mean,'G2logmean',G2logmean)\n",
    "#C-ATOM\n",
    "element_list = ['C', 'C', 'H', 'H', 'H', 'C', 'H', 'H', 'O', 'C', 'C', 'H', 'H', 'H']\n",
    "G1C=input_feature_train[:,0:6].ravel()\n",
    "G1C=np.append(G1C,input_feature_train[:,15:18].ravel())\n",
    "G1C=np.append(G1C,input_feature_train[:,27:33].ravel())\n",
    "G1Cmean=np.mean(G1C)\n",
    "G1Clogmean=np.mean(np.log10(G1C))\n",
    "print('G1Cmean',G1Cmean,'G1Clogmean',G1Clogmean)\n",
    "\n",
    "\n",
    "G2C=input_feature_train[:,42:48].ravel()\n",
    "G2C=np.append(G2C,input_feature_train[:,15+42:18+42].ravel())\n",
    "G2C=np.append(G2C,input_feature_train[:,27+42:33+42].ravel())\n",
    "G2Cmean=np.mean(G2C)\n",
    "G2Clogmean=np.mean(np.log10(G2C))\n",
    "print('G2Cmean',G2Cmean,'G2Clogmean',G2Clogmean)\n",
    "#O-ATOM\n",
    "G1O=input_feature_train[:,24:27].ravel()\n",
    "G1Omean=np.mean(G1O)\n",
    "G1Ologmean=np.mean(np.log10(G1O))\n",
    "print('G1Omean',G1Omean,'G1Ologmean',G1Ologmean)\n",
    "\n",
    "\n",
    "G2O=input_feature_train[:,24+42:27+42].ravel()\n",
    "G2Omean=np.mean(G2O)\n",
    "G2Ologmean=np.mean(np.log10(G2O))\n",
    "print('G2Omean',G2Omean,'G2Ologmean',G2Ologmean)\n",
    "\n",
    "#H-ATOM\n",
    "G1H=input_feature_train[:,6:15].ravel()\n",
    "G1H=np.append(G1C,input_feature_train[:,18:24].ravel())\n",
    "G1H=np.append(G1C,input_feature_train[:,33:42].ravel())\n",
    "G1Hmean=np.mean(G1H)\n",
    "G1Hlogmean=np.mean(np.log10(G1H))\n",
    "print('G1Hmean',G1Hmean,'G1Hlogmean',G1Hlogmean)\n",
    "\n",
    "\n",
    "G2H=input_feature_train[:,42+6:15+42].ravel()\n",
    "G2H=np.append(G2H,input_feature_train[:,18+42:24+42].ravel())\n",
    "G2H=np.append(G2H,input_feature_train[:,33+42:42+42].ravel())\n",
    "G2Hmean=np.mean(G2C)\n",
    "G2Hlogmean=np.mean(np.log10(G2H))\n",
    "print('G2Hmean',G2Hmean,'G2Hlogmean',G2Hlogmean)\n"
   ]
  },
  {
   "cell_type": "code",
   "execution_count": null,
   "id": "68392858",
   "metadata": {
    "ExecuteTime": {
     "end_time": "2022-09-27T16:12:16.058007Z",
     "start_time": "2022-09-27T16:12:16.032078Z"
    }
   },
   "outputs": [],
   "source": [
    "#training process\n",
    "class PlNeuralNet(pl.LightningModule):\n",
    "    def __init__(self, n_net=1,n1=10,Num_atom=14,lr=1.e-2,Num_feature=3):\n",
    "        super().__init__()\n",
    "        subnets = []\n",
    "        for i_net in range(n_net):\n",
    "                subnet = nn.Sequential(\n",
    "                nn.Linear(Num_feature, n1),\n",
    "                nn.Tanh(),\n",
    "                nn.Linear(n1, n1),\n",
    "                nn.Tanh(),\n",
    "                nn.Linear(n1, 1)\n",
    "            )\n",
    "            subnets.append(subnet)\n",
    "            \n",
    "        self.model = nn.ModuleList(subnets)\n",
    "        self.learning_rate = lr\n",
    "        self.Num_feature=Num_feature\n",
    "        self.Num_atom=Num_atom\n",
    "\n",
    "    def forward(self, x):    \n",
    "        b_size, n_atom = x.shape\n",
    "        atomic_E = torch.zeros((b_size, n_atom//self.Num_feature)).to(device)\n",
    "        for i_atom in range(self.Num_atom):\n",
    "            i_subnet = type_list[i_atom]\n",
    "            atomic_E[:,i_atom] = torch.flatten(self.model[i_subnet](x[:,self.Num_feature*i_atom:self.Num_feature*(i_atom+1)]))\n",
    "        Eout  = torch.sum(atomic_E, axis = 1)\n",
    "        return Eout\n",
    "\n",
    "\n",
    "\n",
    "    def training_step(self, batch, batch_idx):\n",
    "        xy, z = batch\n",
    "        z_pred = self(xy)\n",
    "        lossfn = nn.MSELoss()\n",
    "        loss = lossfn(z_pred.squeeze(), z)\n",
    "        self.log('train_loss', loss)\n",
    "        return loss\n",
    "    \n",
    "    def validation_step(self, batch, batch_idx):\n",
    "        xy, z = batch\n",
    "        z_pred = self(xy)\n",
    "        lossfn = nn.MSELoss()\n",
    "        lossval = lossfn(z_pred.squeeze(), z)\n",
    "        self.log('valloss', lossval)\n",
    "        return lossval\n",
    "    \n",
    "    def test_step(self, batch, batch_idx):\n",
    "        xy, z = batch\n",
    "        z_pred = self(xy)\n",
    "        lossfn = nn.MSELoss()\n",
    "        losstest = lossfn(z_pred.squeeze(), z)\n",
    "        self.log('testloss', losstest)\n",
    "        return losstest\n",
    "    \n",
    "\n",
    "    def configure_optimizers(self):\n",
    "#        optimizer = torch.optim.SGD(self.parameters(), lr=self.learning_rate)\n",
    "#        optimizer = torch.optim.RMSprop(self.parameters(), lr=self.learning_rate)\n",
    "        optimizer = torch.optim.Adam(self.parameters(), lr=self.learning_rate, weight_decay=1.E-5)\n",
    "        scheduler = {'scheduler': torch.optim.lr_scheduler.ExponentialLR(optimizer, 0.97),\n",
    "                     'interval': 'epoch',\n",
    "                     'frequency': 1,\n",
    "                    }\n",
    "        return [optimizer] #, [scheduler]"
   ]
  },
  {
   "cell_type": "code",
   "execution_count": 15,
   "id": "8ec4c991",
   "metadata": {
    "ExecuteTime": {
     "end_time": "2022-09-27T16:22:54.590726Z",
     "start_time": "2022-09-27T16:12:16.061000Z"
    },
    "scrolled": true
   },
   "outputs": [
    {
     "name": "stderr",
     "output_type": "stream",
     "text": [
      "GPU available: False, used: False\n",
      "TPU available: False, using: 0 TPU cores\n",
      "IPU available: False, using: 0 IPUs\n",
      "HPU available: False, using: 0 HPUs\n",
      "\n",
      "  | Name  | Type       | Params\n",
      "-------------------------------------\n",
      "0 | model | ModuleList | 603   \n",
      "-------------------------------------\n",
      "603       Trainable params\n",
      "0         Non-trainable params\n",
      "603       Total params\n",
      "0.002     Total estimated model params size (MB)\n"
     ]
    },
    {
     "data": {
      "application/vnd.jupyter.widget-view+json": {
       "model_id": "",
       "version_major": 2,
       "version_minor": 0
      },
      "text/plain": [
       "Sanity Checking: 0it [00:00, ?it/s]"
      ]
     },
     "metadata": {},
     "output_type": "display_data"
    },
    {
     "name": "stderr",
     "output_type": "stream",
     "text": [
      "C:\\Users\\wjn\\AppData\\Local\\Packages\\PythonSoftwareFoundation.Python.3.10_qbz5n2kfra8p0\\LocalCache\\local-packages\\Python310\\site-packages\\pytorch_lightning\\trainer\\connectors\\data_connector.py:236: PossibleUserWarning: The dataloader, val_dataloader 0, does not have many workers which may be a bottleneck. Consider increasing the value of the `num_workers` argument` (try 16 which is the number of cpus on this machine) in the `DataLoader` init to improve performance.\n",
      "  rank_zero_warn(\n",
      "C:\\Users\\wjn\\AppData\\Local\\Packages\\PythonSoftwareFoundation.Python.3.10_qbz5n2kfra8p0\\LocalCache\\local-packages\\Python310\\site-packages\\torch\\nn\\modules\\loss.py:530: UserWarning: Using a target size (torch.Size([1])) that is different to the input size (torch.Size([])). This will likely lead to incorrect results due to broadcasting. Please ensure they have the same size.\n",
      "  return F.mse_loss(input, target, reduction=self.reduction)\n",
      "C:\\Users\\wjn\\AppData\\Local\\Packages\\PythonSoftwareFoundation.Python.3.10_qbz5n2kfra8p0\\LocalCache\\local-packages\\Python310\\site-packages\\pytorch_lightning\\trainer\\connectors\\data_connector.py:236: PossibleUserWarning: The dataloader, train_dataloader, does not have many workers which may be a bottleneck. Consider increasing the value of the `num_workers` argument` (try 16 which is the number of cpus on this machine) in the `DataLoader` init to improve performance.\n",
      "  rank_zero_warn(\n",
      "C:\\Users\\wjn\\AppData\\Local\\Packages\\PythonSoftwareFoundation.Python.3.10_qbz5n2kfra8p0\\LocalCache\\local-packages\\Python310\\site-packages\\pytorch_lightning\\trainer\\trainer.py:1892: PossibleUserWarning: The number of training batches (1) is smaller than the logging interval Trainer(log_every_n_steps=15). Set a lower value for log_every_n_steps if you want to see logs for the training epoch.\n",
      "  rank_zero_warn(\n"
     ]
    },
    {
     "data": {
      "application/vnd.jupyter.widget-view+json": {
       "model_id": "8596dd0202b44bd7a2957e74907467a0",
       "version_major": 2,
       "version_minor": 0
      },
      "text/plain": [
       "Training: 0it [00:00, ?it/s]"
      ]
     },
     "metadata": {},
     "output_type": "display_data"
    },
    {
     "data": {
      "application/vnd.jupyter.widget-view+json": {
       "model_id": "",
       "version_major": 2,
       "version_minor": 0
      },
      "text/plain": [
       "Validation: 0it [00:00, ?it/s]"
      ]
     },
     "metadata": {},
     "output_type": "display_data"
    },
    {
     "data": {
      "application/vnd.jupyter.widget-view+json": {
       "model_id": "",
       "version_major": 2,
       "version_minor": 0
      },
      "text/plain": [
       "Validation: 0it [00:00, ?it/s]"
      ]
     },
     "metadata": {},
     "output_type": "display_data"
    },
    {
     "data": {
      "application/vnd.jupyter.widget-view+json": {
       "model_id": "",
       "version_major": 2,
       "version_minor": 0
      },
      "text/plain": [
       "Validation: 0it [00:00, ?it/s]"
      ]
     },
     "metadata": {},
     "output_type": "display_data"
    },
    {
     "data": {
      "application/vnd.jupyter.widget-view+json": {
       "model_id": "",
       "version_major": 2,
       "version_minor": 0
      },
      "text/plain": [
       "Validation: 0it [00:00, ?it/s]"
      ]
     },
     "metadata": {},
     "output_type": "display_data"
    },
    {
     "data": {
      "application/vnd.jupyter.widget-view+json": {
       "model_id": "",
       "version_major": 2,
       "version_minor": 0
      },
      "text/plain": [
       "Validation: 0it [00:00, ?it/s]"
      ]
     },
     "metadata": {},
     "output_type": "display_data"
    },
    {
     "data": {
      "application/vnd.jupyter.widget-view+json": {
       "model_id": "",
       "version_major": 2,
       "version_minor": 0
      },
      "text/plain": [
       "Validation: 0it [00:00, ?it/s]"
      ]
     },
     "metadata": {},
     "output_type": "display_data"
    },
    {
     "data": {
      "application/vnd.jupyter.widget-view+json": {
       "model_id": "",
       "version_major": 2,
       "version_minor": 0
      },
      "text/plain": [
       "Validation: 0it [00:00, ?it/s]"
      ]
     },
     "metadata": {},
     "output_type": "display_data"
    },
    {
     "data": {
      "application/vnd.jupyter.widget-view+json": {
       "model_id": "",
       "version_major": 2,
       "version_minor": 0
      },
      "text/plain": [
       "Validation: 0it [00:00, ?it/s]"
      ]
     },
     "metadata": {},
     "output_type": "display_data"
    },
    {
     "data": {
      "application/vnd.jupyter.widget-view+json": {
       "model_id": "",
       "version_major": 2,
       "version_minor": 0
      },
      "text/plain": [
       "Validation: 0it [00:00, ?it/s]"
      ]
     },
     "metadata": {},
     "output_type": "display_data"
    },
    {
     "data": {
      "application/vnd.jupyter.widget-view+json": {
       "model_id": "",
       "version_major": 2,
       "version_minor": 0
      },
      "text/plain": [
       "Validation: 0it [00:00, ?it/s]"
      ]
     },
     "metadata": {},
     "output_type": "display_data"
    },
    {
     "data": {
      "application/vnd.jupyter.widget-view+json": {
       "model_id": "",
       "version_major": 2,
       "version_minor": 0
      },
      "text/plain": [
       "Validation: 0it [00:00, ?it/s]"
      ]
     },
     "metadata": {},
     "output_type": "display_data"
    },
    {
     "data": {
      "application/vnd.jupyter.widget-view+json": {
       "model_id": "",
       "version_major": 2,
       "version_minor": 0
      },
      "text/plain": [
       "Validation: 0it [00:00, ?it/s]"
      ]
     },
     "metadata": {},
     "output_type": "display_data"
    },
    {
     "data": {
      "application/vnd.jupyter.widget-view+json": {
       "model_id": "",
       "version_major": 2,
       "version_minor": 0
      },
      "text/plain": [
       "Validation: 0it [00:00, ?it/s]"
      ]
     },
     "metadata": {},
     "output_type": "display_data"
    },
    {
     "data": {
      "application/vnd.jupyter.widget-view+json": {
       "model_id": "",
       "version_major": 2,
       "version_minor": 0
      },
      "text/plain": [
       "Validation: 0it [00:00, ?it/s]"
      ]
     },
     "metadata": {},
     "output_type": "display_data"
    },
    {
     "data": {
      "application/vnd.jupyter.widget-view+json": {
       "model_id": "",
       "version_major": 2,
       "version_minor": 0
      },
      "text/plain": [
       "Validation: 0it [00:00, ?it/s]"
      ]
     },
     "metadata": {},
     "output_type": "display_data"
    },
    {
     "data": {
      "application/vnd.jupyter.widget-view+json": {
       "model_id": "",
       "version_major": 2,
       "version_minor": 0
      },
      "text/plain": [
       "Validation: 0it [00:00, ?it/s]"
      ]
     },
     "metadata": {},
     "output_type": "display_data"
    },
    {
     "data": {
      "application/vnd.jupyter.widget-view+json": {
       "model_id": "",
       "version_major": 2,
       "version_minor": 0
      },
      "text/plain": [
       "Validation: 0it [00:00, ?it/s]"
      ]
     },
     "metadata": {},
     "output_type": "display_data"
    },
    {
     "data": {
      "application/vnd.jupyter.widget-view+json": {
       "model_id": "",
       "version_major": 2,
       "version_minor": 0
      },
      "text/plain": [
       "Validation: 0it [00:00, ?it/s]"
      ]
     },
     "metadata": {},
     "output_type": "display_data"
    },
    {
     "data": {
      "application/vnd.jupyter.widget-view+json": {
       "model_id": "",
       "version_major": 2,
       "version_minor": 0
      },
      "text/plain": [
       "Validation: 0it [00:00, ?it/s]"
      ]
     },
     "metadata": {},
     "output_type": "display_data"
    },
    {
     "data": {
      "application/vnd.jupyter.widget-view+json": {
       "model_id": "",
       "version_major": 2,
       "version_minor": 0
      },
      "text/plain": [
       "Validation: 0it [00:00, ?it/s]"
      ]
     },
     "metadata": {},
     "output_type": "display_data"
    },
    {
     "data": {
      "application/vnd.jupyter.widget-view+json": {
       "model_id": "",
       "version_major": 2,
       "version_minor": 0
      },
      "text/plain": [
       "Validation: 0it [00:00, ?it/s]"
      ]
     },
     "metadata": {},
     "output_type": "display_data"
    },
    {
     "data": {
      "application/vnd.jupyter.widget-view+json": {
       "model_id": "",
       "version_major": 2,
       "version_minor": 0
      },
      "text/plain": [
       "Validation: 0it [00:00, ?it/s]"
      ]
     },
     "metadata": {},
     "output_type": "display_data"
    },
    {
     "data": {
      "application/vnd.jupyter.widget-view+json": {
       "model_id": "",
       "version_major": 2,
       "version_minor": 0
      },
      "text/plain": [
       "Validation: 0it [00:00, ?it/s]"
      ]
     },
     "metadata": {},
     "output_type": "display_data"
    },
    {
     "data": {
      "application/vnd.jupyter.widget-view+json": {
       "model_id": "",
       "version_major": 2,
       "version_minor": 0
      },
      "text/plain": [
       "Validation: 0it [00:00, ?it/s]"
      ]
     },
     "metadata": {},
     "output_type": "display_data"
    },
    {
     "data": {
      "application/vnd.jupyter.widget-view+json": {
       "model_id": "",
       "version_major": 2,
       "version_minor": 0
      },
      "text/plain": [
       "Validation: 0it [00:00, ?it/s]"
      ]
     },
     "metadata": {},
     "output_type": "display_data"
    },
    {
     "data": {
      "application/vnd.jupyter.widget-view+json": {
       "model_id": "",
       "version_major": 2,
       "version_minor": 0
      },
      "text/plain": [
       "Validation: 0it [00:00, ?it/s]"
      ]
     },
     "metadata": {},
     "output_type": "display_data"
    },
    {
     "data": {
      "application/vnd.jupyter.widget-view+json": {
       "model_id": "",
       "version_major": 2,
       "version_minor": 0
      },
      "text/plain": [
       "Validation: 0it [00:00, ?it/s]"
      ]
     },
     "metadata": {},
     "output_type": "display_data"
    },
    {
     "data": {
      "application/vnd.jupyter.widget-view+json": {
       "model_id": "",
       "version_major": 2,
       "version_minor": 0
      },
      "text/plain": [
       "Validation: 0it [00:00, ?it/s]"
      ]
     },
     "metadata": {},
     "output_type": "display_data"
    },
    {
     "data": {
      "application/vnd.jupyter.widget-view+json": {
       "model_id": "",
       "version_major": 2,
       "version_minor": 0
      },
      "text/plain": [
       "Validation: 0it [00:00, ?it/s]"
      ]
     },
     "metadata": {},
     "output_type": "display_data"
    },
    {
     "data": {
      "application/vnd.jupyter.widget-view+json": {
       "model_id": "",
       "version_major": 2,
       "version_minor": 0
      },
      "text/plain": [
       "Validation: 0it [00:00, ?it/s]"
      ]
     },
     "metadata": {},
     "output_type": "display_data"
    },
    {
     "data": {
      "application/vnd.jupyter.widget-view+json": {
       "model_id": "",
       "version_major": 2,
       "version_minor": 0
      },
      "text/plain": [
       "Validation: 0it [00:00, ?it/s]"
      ]
     },
     "metadata": {},
     "output_type": "display_data"
    },
    {
     "data": {
      "application/vnd.jupyter.widget-view+json": {
       "model_id": "",
       "version_major": 2,
       "version_minor": 0
      },
      "text/plain": [
       "Validation: 0it [00:00, ?it/s]"
      ]
     },
     "metadata": {},
     "output_type": "display_data"
    },
    {
     "data": {
      "application/vnd.jupyter.widget-view+json": {
       "model_id": "",
       "version_major": 2,
       "version_minor": 0
      },
      "text/plain": [
       "Validation: 0it [00:00, ?it/s]"
      ]
     },
     "metadata": {},
     "output_type": "display_data"
    },
    {
     "data": {
      "application/vnd.jupyter.widget-view+json": {
       "model_id": "",
       "version_major": 2,
       "version_minor": 0
      },
      "text/plain": [
       "Validation: 0it [00:00, ?it/s]"
      ]
     },
     "metadata": {},
     "output_type": "display_data"
    },
    {
     "data": {
      "application/vnd.jupyter.widget-view+json": {
       "model_id": "",
       "version_major": 2,
       "version_minor": 0
      },
      "text/plain": [
       "Validation: 0it [00:00, ?it/s]"
      ]
     },
     "metadata": {},
     "output_type": "display_data"
    },
    {
     "data": {
      "application/vnd.jupyter.widget-view+json": {
       "model_id": "",
       "version_major": 2,
       "version_minor": 0
      },
      "text/plain": [
       "Validation: 0it [00:00, ?it/s]"
      ]
     },
     "metadata": {},
     "output_type": "display_data"
    },
    {
     "data": {
      "application/vnd.jupyter.widget-view+json": {
       "model_id": "",
       "version_major": 2,
       "version_minor": 0
      },
      "text/plain": [
       "Validation: 0it [00:00, ?it/s]"
      ]
     },
     "metadata": {},
     "output_type": "display_data"
    },
    {
     "data": {
      "application/vnd.jupyter.widget-view+json": {
       "model_id": "",
       "version_major": 2,
       "version_minor": 0
      },
      "text/plain": [
       "Validation: 0it [00:00, ?it/s]"
      ]
     },
     "metadata": {},
     "output_type": "display_data"
    },
    {
     "data": {
      "application/vnd.jupyter.widget-view+json": {
       "model_id": "",
       "version_major": 2,
       "version_minor": 0
      },
      "text/plain": [
       "Validation: 0it [00:00, ?it/s]"
      ]
     },
     "metadata": {},
     "output_type": "display_data"
    },
    {
     "data": {
      "application/vnd.jupyter.widget-view+json": {
       "model_id": "",
       "version_major": 2,
       "version_minor": 0
      },
      "text/plain": [
       "Validation: 0it [00:00, ?it/s]"
      ]
     },
     "metadata": {},
     "output_type": "display_data"
    },
    {
     "data": {
      "application/vnd.jupyter.widget-view+json": {
       "model_id": "",
       "version_major": 2,
       "version_minor": 0
      },
      "text/plain": [
       "Validation: 0it [00:00, ?it/s]"
      ]
     },
     "metadata": {},
     "output_type": "display_data"
    },
    {
     "data": {
      "application/vnd.jupyter.widget-view+json": {
       "model_id": "",
       "version_major": 2,
       "version_minor": 0
      },
      "text/plain": [
       "Validation: 0it [00:00, ?it/s]"
      ]
     },
     "metadata": {},
     "output_type": "display_data"
    },
    {
     "data": {
      "application/vnd.jupyter.widget-view+json": {
       "model_id": "",
       "version_major": 2,
       "version_minor": 0
      },
      "text/plain": [
       "Validation: 0it [00:00, ?it/s]"
      ]
     },
     "metadata": {},
     "output_type": "display_data"
    },
    {
     "data": {
      "application/vnd.jupyter.widget-view+json": {
       "model_id": "",
       "version_major": 2,
       "version_minor": 0
      },
      "text/plain": [
       "Validation: 0it [00:00, ?it/s]"
      ]
     },
     "metadata": {},
     "output_type": "display_data"
    },
    {
     "data": {
      "application/vnd.jupyter.widget-view+json": {
       "model_id": "",
       "version_major": 2,
       "version_minor": 0
      },
      "text/plain": [
       "Validation: 0it [00:00, ?it/s]"
      ]
     },
     "metadata": {},
     "output_type": "display_data"
    },
    {
     "data": {
      "application/vnd.jupyter.widget-view+json": {
       "model_id": "",
       "version_major": 2,
       "version_minor": 0
      },
      "text/plain": [
       "Validation: 0it [00:00, ?it/s]"
      ]
     },
     "metadata": {},
     "output_type": "display_data"
    },
    {
     "data": {
      "application/vnd.jupyter.widget-view+json": {
       "model_id": "",
       "version_major": 2,
       "version_minor": 0
      },
      "text/plain": [
       "Validation: 0it [00:00, ?it/s]"
      ]
     },
     "metadata": {},
     "output_type": "display_data"
    },
    {
     "data": {
      "application/vnd.jupyter.widget-view+json": {
       "model_id": "",
       "version_major": 2,
       "version_minor": 0
      },
      "text/plain": [
       "Validation: 0it [00:00, ?it/s]"
      ]
     },
     "metadata": {},
     "output_type": "display_data"
    },
    {
     "data": {
      "application/vnd.jupyter.widget-view+json": {
       "model_id": "",
       "version_major": 2,
       "version_minor": 0
      },
      "text/plain": [
       "Validation: 0it [00:00, ?it/s]"
      ]
     },
     "metadata": {},
     "output_type": "display_data"
    },
    {
     "data": {
      "application/vnd.jupyter.widget-view+json": {
       "model_id": "",
       "version_major": 2,
       "version_minor": 0
      },
      "text/plain": [
       "Validation: 0it [00:00, ?it/s]"
      ]
     },
     "metadata": {},
     "output_type": "display_data"
    },
    {
     "data": {
      "application/vnd.jupyter.widget-view+json": {
       "model_id": "",
       "version_major": 2,
       "version_minor": 0
      },
      "text/plain": [
       "Validation: 0it [00:00, ?it/s]"
      ]
     },
     "metadata": {},
     "output_type": "display_data"
    },
    {
     "data": {
      "application/vnd.jupyter.widget-view+json": {
       "model_id": "",
       "version_major": 2,
       "version_minor": 0
      },
      "text/plain": [
       "Validation: 0it [00:00, ?it/s]"
      ]
     },
     "metadata": {},
     "output_type": "display_data"
    },
    {
     "data": {
      "application/vnd.jupyter.widget-view+json": {
       "model_id": "",
       "version_major": 2,
       "version_minor": 0
      },
      "text/plain": [
       "Validation: 0it [00:00, ?it/s]"
      ]
     },
     "metadata": {},
     "output_type": "display_data"
    },
    {
     "data": {
      "application/vnd.jupyter.widget-view+json": {
       "model_id": "",
       "version_major": 2,
       "version_minor": 0
      },
      "text/plain": [
       "Validation: 0it [00:00, ?it/s]"
      ]
     },
     "metadata": {},
     "output_type": "display_data"
    },
    {
     "data": {
      "application/vnd.jupyter.widget-view+json": {
       "model_id": "",
       "version_major": 2,
       "version_minor": 0
      },
      "text/plain": [
       "Validation: 0it [00:00, ?it/s]"
      ]
     },
     "metadata": {},
     "output_type": "display_data"
    },
    {
     "data": {
      "application/vnd.jupyter.widget-view+json": {
       "model_id": "",
       "version_major": 2,
       "version_minor": 0
      },
      "text/plain": [
       "Validation: 0it [00:00, ?it/s]"
      ]
     },
     "metadata": {},
     "output_type": "display_data"
    },
    {
     "data": {
      "application/vnd.jupyter.widget-view+json": {
       "model_id": "",
       "version_major": 2,
       "version_minor": 0
      },
      "text/plain": [
       "Validation: 0it [00:00, ?it/s]"
      ]
     },
     "metadata": {},
     "output_type": "display_data"
    },
    {
     "data": {
      "application/vnd.jupyter.widget-view+json": {
       "model_id": "",
       "version_major": 2,
       "version_minor": 0
      },
      "text/plain": [
       "Validation: 0it [00:00, ?it/s]"
      ]
     },
     "metadata": {},
     "output_type": "display_data"
    },
    {
     "data": {
      "application/vnd.jupyter.widget-view+json": {
       "model_id": "",
       "version_major": 2,
       "version_minor": 0
      },
      "text/plain": [
       "Validation: 0it [00:00, ?it/s]"
      ]
     },
     "metadata": {},
     "output_type": "display_data"
    },
    {
     "data": {
      "application/vnd.jupyter.widget-view+json": {
       "model_id": "",
       "version_major": 2,
       "version_minor": 0
      },
      "text/plain": [
       "Validation: 0it [00:00, ?it/s]"
      ]
     },
     "metadata": {},
     "output_type": "display_data"
    },
    {
     "data": {
      "application/vnd.jupyter.widget-view+json": {
       "model_id": "",
       "version_major": 2,
       "version_minor": 0
      },
      "text/plain": [
       "Validation: 0it [00:00, ?it/s]"
      ]
     },
     "metadata": {},
     "output_type": "display_data"
    },
    {
     "data": {
      "application/vnd.jupyter.widget-view+json": {
       "model_id": "",
       "version_major": 2,
       "version_minor": 0
      },
      "text/plain": [
       "Validation: 0it [00:00, ?it/s]"
      ]
     },
     "metadata": {},
     "output_type": "display_data"
    },
    {
     "data": {
      "application/vnd.jupyter.widget-view+json": {
       "model_id": "",
       "version_major": 2,
       "version_minor": 0
      },
      "text/plain": [
       "Validation: 0it [00:00, ?it/s]"
      ]
     },
     "metadata": {},
     "output_type": "display_data"
    },
    {
     "data": {
      "application/vnd.jupyter.widget-view+json": {
       "model_id": "",
       "version_major": 2,
       "version_minor": 0
      },
      "text/plain": [
       "Validation: 0it [00:00, ?it/s]"
      ]
     },
     "metadata": {},
     "output_type": "display_data"
    },
    {
     "data": {
      "application/vnd.jupyter.widget-view+json": {
       "model_id": "",
       "version_major": 2,
       "version_minor": 0
      },
      "text/plain": [
       "Validation: 0it [00:00, ?it/s]"
      ]
     },
     "metadata": {},
     "output_type": "display_data"
    },
    {
     "data": {
      "application/vnd.jupyter.widget-view+json": {
       "model_id": "",
       "version_major": 2,
       "version_minor": 0
      },
      "text/plain": [
       "Validation: 0it [00:00, ?it/s]"
      ]
     },
     "metadata": {},
     "output_type": "display_data"
    },
    {
     "data": {
      "application/vnd.jupyter.widget-view+json": {
       "model_id": "",
       "version_major": 2,
       "version_minor": 0
      },
      "text/plain": [
       "Validation: 0it [00:00, ?it/s]"
      ]
     },
     "metadata": {},
     "output_type": "display_data"
    },
    {
     "data": {
      "application/vnd.jupyter.widget-view+json": {
       "model_id": "",
       "version_major": 2,
       "version_minor": 0
      },
      "text/plain": [
       "Validation: 0it [00:00, ?it/s]"
      ]
     },
     "metadata": {},
     "output_type": "display_data"
    },
    {
     "data": {
      "application/vnd.jupyter.widget-view+json": {
       "model_id": "",
       "version_major": 2,
       "version_minor": 0
      },
      "text/plain": [
       "Validation: 0it [00:00, ?it/s]"
      ]
     },
     "metadata": {},
     "output_type": "display_data"
    },
    {
     "data": {
      "application/vnd.jupyter.widget-view+json": {
       "model_id": "",
       "version_major": 2,
       "version_minor": 0
      },
      "text/plain": [
       "Validation: 0it [00:00, ?it/s]"
      ]
     },
     "metadata": {},
     "output_type": "display_data"
    },
    {
     "data": {
      "application/vnd.jupyter.widget-view+json": {
       "model_id": "",
       "version_major": 2,
       "version_minor": 0
      },
      "text/plain": [
       "Validation: 0it [00:00, ?it/s]"
      ]
     },
     "metadata": {},
     "output_type": "display_data"
    },
    {
     "data": {
      "application/vnd.jupyter.widget-view+json": {
       "model_id": "",
       "version_major": 2,
       "version_minor": 0
      },
      "text/plain": [
       "Validation: 0it [00:00, ?it/s]"
      ]
     },
     "metadata": {},
     "output_type": "display_data"
    },
    {
     "data": {
      "application/vnd.jupyter.widget-view+json": {
       "model_id": "",
       "version_major": 2,
       "version_minor": 0
      },
      "text/plain": [
       "Validation: 0it [00:00, ?it/s]"
      ]
     },
     "metadata": {},
     "output_type": "display_data"
    },
    {
     "data": {
      "application/vnd.jupyter.widget-view+json": {
       "model_id": "",
       "version_major": 2,
       "version_minor": 0
      },
      "text/plain": [
       "Validation: 0it [00:00, ?it/s]"
      ]
     },
     "metadata": {},
     "output_type": "display_data"
    },
    {
     "data": {
      "application/vnd.jupyter.widget-view+json": {
       "model_id": "",
       "version_major": 2,
       "version_minor": 0
      },
      "text/plain": [
       "Validation: 0it [00:00, ?it/s]"
      ]
     },
     "metadata": {},
     "output_type": "display_data"
    },
    {
     "data": {
      "application/vnd.jupyter.widget-view+json": {
       "model_id": "",
       "version_major": 2,
       "version_minor": 0
      },
      "text/plain": [
       "Validation: 0it [00:00, ?it/s]"
      ]
     },
     "metadata": {},
     "output_type": "display_data"
    },
    {
     "data": {
      "application/vnd.jupyter.widget-view+json": {
       "model_id": "",
       "version_major": 2,
       "version_minor": 0
      },
      "text/plain": [
       "Validation: 0it [00:00, ?it/s]"
      ]
     },
     "metadata": {},
     "output_type": "display_data"
    },
    {
     "data": {
      "application/vnd.jupyter.widget-view+json": {
       "model_id": "",
       "version_major": 2,
       "version_minor": 0
      },
      "text/plain": [
       "Validation: 0it [00:00, ?it/s]"
      ]
     },
     "metadata": {},
     "output_type": "display_data"
    },
    {
     "data": {
      "application/vnd.jupyter.widget-view+json": {
       "model_id": "",
       "version_major": 2,
       "version_minor": 0
      },
      "text/plain": [
       "Validation: 0it [00:00, ?it/s]"
      ]
     },
     "metadata": {},
     "output_type": "display_data"
    },
    {
     "data": {
      "application/vnd.jupyter.widget-view+json": {
       "model_id": "",
       "version_major": 2,
       "version_minor": 0
      },
      "text/plain": [
       "Validation: 0it [00:00, ?it/s]"
      ]
     },
     "metadata": {},
     "output_type": "display_data"
    },
    {
     "data": {
      "application/vnd.jupyter.widget-view+json": {
       "model_id": "",
       "version_major": 2,
       "version_minor": 0
      },
      "text/plain": [
       "Validation: 0it [00:00, ?it/s]"
      ]
     },
     "metadata": {},
     "output_type": "display_data"
    },
    {
     "data": {
      "application/vnd.jupyter.widget-view+json": {
       "model_id": "",
       "version_major": 2,
       "version_minor": 0
      },
      "text/plain": [
       "Validation: 0it [00:00, ?it/s]"
      ]
     },
     "metadata": {},
     "output_type": "display_data"
    },
    {
     "data": {
      "application/vnd.jupyter.widget-view+json": {
       "model_id": "",
       "version_major": 2,
       "version_minor": 0
      },
      "text/plain": [
       "Validation: 0it [00:00, ?it/s]"
      ]
     },
     "metadata": {},
     "output_type": "display_data"
    },
    {
     "data": {
      "application/vnd.jupyter.widget-view+json": {
       "model_id": "",
       "version_major": 2,
       "version_minor": 0
      },
      "text/plain": [
       "Validation: 0it [00:00, ?it/s]"
      ]
     },
     "metadata": {},
     "output_type": "display_data"
    },
    {
     "data": {
      "application/vnd.jupyter.widget-view+json": {
       "model_id": "",
       "version_major": 2,
       "version_minor": 0
      },
      "text/plain": [
       "Validation: 0it [00:00, ?it/s]"
      ]
     },
     "metadata": {},
     "output_type": "display_data"
    },
    {
     "data": {
      "application/vnd.jupyter.widget-view+json": {
       "model_id": "",
       "version_major": 2,
       "version_minor": 0
      },
      "text/plain": [
       "Validation: 0it [00:00, ?it/s]"
      ]
     },
     "metadata": {},
     "output_type": "display_data"
    },
    {
     "data": {
      "application/vnd.jupyter.widget-view+json": {
       "model_id": "",
       "version_major": 2,
       "version_minor": 0
      },
      "text/plain": [
       "Validation: 0it [00:00, ?it/s]"
      ]
     },
     "metadata": {},
     "output_type": "display_data"
    },
    {
     "data": {
      "application/vnd.jupyter.widget-view+json": {
       "model_id": "",
       "version_major": 2,
       "version_minor": 0
      },
      "text/plain": [
       "Validation: 0it [00:00, ?it/s]"
      ]
     },
     "metadata": {},
     "output_type": "display_data"
    },
    {
     "data": {
      "application/vnd.jupyter.widget-view+json": {
       "model_id": "",
       "version_major": 2,
       "version_minor": 0
      },
      "text/plain": [
       "Validation: 0it [00:00, ?it/s]"
      ]
     },
     "metadata": {},
     "output_type": "display_data"
    },
    {
     "data": {
      "application/vnd.jupyter.widget-view+json": {
       "model_id": "",
       "version_major": 2,
       "version_minor": 0
      },
      "text/plain": [
       "Validation: 0it [00:00, ?it/s]"
      ]
     },
     "metadata": {},
     "output_type": "display_data"
    },
    {
     "data": {
      "application/vnd.jupyter.widget-view+json": {
       "model_id": "",
       "version_major": 2,
       "version_minor": 0
      },
      "text/plain": [
       "Validation: 0it [00:00, ?it/s]"
      ]
     },
     "metadata": {},
     "output_type": "display_data"
    },
    {
     "data": {
      "application/vnd.jupyter.widget-view+json": {
       "model_id": "",
       "version_major": 2,
       "version_minor": 0
      },
      "text/plain": [
       "Validation: 0it [00:00, ?it/s]"
      ]
     },
     "metadata": {},
     "output_type": "display_data"
    },
    {
     "data": {
      "application/vnd.jupyter.widget-view+json": {
       "model_id": "",
       "version_major": 2,
       "version_minor": 0
      },
      "text/plain": [
       "Validation: 0it [00:00, ?it/s]"
      ]
     },
     "metadata": {},
     "output_type": "display_data"
    },
    {
     "data": {
      "application/vnd.jupyter.widget-view+json": {
       "model_id": "",
       "version_major": 2,
       "version_minor": 0
      },
      "text/plain": [
       "Validation: 0it [00:00, ?it/s]"
      ]
     },
     "metadata": {},
     "output_type": "display_data"
    },
    {
     "data": {
      "application/vnd.jupyter.widget-view+json": {
       "model_id": "",
       "version_major": 2,
       "version_minor": 0
      },
      "text/plain": [
       "Validation: 0it [00:00, ?it/s]"
      ]
     },
     "metadata": {},
     "output_type": "display_data"
    },
    {
     "data": {
      "application/vnd.jupyter.widget-view+json": {
       "model_id": "",
       "version_major": 2,
       "version_minor": 0
      },
      "text/plain": [
       "Validation: 0it [00:00, ?it/s]"
      ]
     },
     "metadata": {},
     "output_type": "display_data"
    },
    {
     "data": {
      "application/vnd.jupyter.widget-view+json": {
       "model_id": "",
       "version_major": 2,
       "version_minor": 0
      },
      "text/plain": [
       "Validation: 0it [00:00, ?it/s]"
      ]
     },
     "metadata": {},
     "output_type": "display_data"
    },
    {
     "data": {
      "application/vnd.jupyter.widget-view+json": {
       "model_id": "",
       "version_major": 2,
       "version_minor": 0
      },
      "text/plain": [
       "Validation: 0it [00:00, ?it/s]"
      ]
     },
     "metadata": {},
     "output_type": "display_data"
    },
    {
     "data": {
      "application/vnd.jupyter.widget-view+json": {
       "model_id": "",
       "version_major": 2,
       "version_minor": 0
      },
      "text/plain": [
       "Validation: 0it [00:00, ?it/s]"
      ]
     },
     "metadata": {},
     "output_type": "display_data"
    },
    {
     "data": {
      "application/vnd.jupyter.widget-view+json": {
       "model_id": "",
       "version_major": 2,
       "version_minor": 0
      },
      "text/plain": [
       "Validation: 0it [00:00, ?it/s]"
      ]
     },
     "metadata": {},
     "output_type": "display_data"
    },
    {
     "data": {
      "application/vnd.jupyter.widget-view+json": {
       "model_id": "",
       "version_major": 2,
       "version_minor": 0
      },
      "text/plain": [
       "Validation: 0it [00:00, ?it/s]"
      ]
     },
     "metadata": {},
     "output_type": "display_data"
    },
    {
     "data": {
      "application/vnd.jupyter.widget-view+json": {
       "model_id": "",
       "version_major": 2,
       "version_minor": 0
      },
      "text/plain": [
       "Validation: 0it [00:00, ?it/s]"
      ]
     },
     "metadata": {},
     "output_type": "display_data"
    },
    {
     "data": {
      "application/vnd.jupyter.widget-view+json": {
       "model_id": "",
       "version_major": 2,
       "version_minor": 0
      },
      "text/plain": [
       "Validation: 0it [00:00, ?it/s]"
      ]
     },
     "metadata": {},
     "output_type": "display_data"
    },
    {
     "data": {
      "application/vnd.jupyter.widget-view+json": {
       "model_id": "",
       "version_major": 2,
       "version_minor": 0
      },
      "text/plain": [
       "Validation: 0it [00:00, ?it/s]"
      ]
     },
     "metadata": {},
     "output_type": "display_data"
    },
    {
     "data": {
      "application/vnd.jupyter.widget-view+json": {
       "model_id": "",
       "version_major": 2,
       "version_minor": 0
      },
      "text/plain": [
       "Validation: 0it [00:00, ?it/s]"
      ]
     },
     "metadata": {},
     "output_type": "display_data"
    },
    {
     "data": {
      "application/vnd.jupyter.widget-view+json": {
       "model_id": "",
       "version_major": 2,
       "version_minor": 0
      },
      "text/plain": [
       "Validation: 0it [00:00, ?it/s]"
      ]
     },
     "metadata": {},
     "output_type": "display_data"
    },
    {
     "data": {
      "application/vnd.jupyter.widget-view+json": {
       "model_id": "",
       "version_major": 2,
       "version_minor": 0
      },
      "text/plain": [
       "Validation: 0it [00:00, ?it/s]"
      ]
     },
     "metadata": {},
     "output_type": "display_data"
    },
    {
     "data": {
      "application/vnd.jupyter.widget-view+json": {
       "model_id": "",
       "version_major": 2,
       "version_minor": 0
      },
      "text/plain": [
       "Validation: 0it [00:00, ?it/s]"
      ]
     },
     "metadata": {},
     "output_type": "display_data"
    },
    {
     "data": {
      "application/vnd.jupyter.widget-view+json": {
       "model_id": "",
       "version_major": 2,
       "version_minor": 0
      },
      "text/plain": [
       "Validation: 0it [00:00, ?it/s]"
      ]
     },
     "metadata": {},
     "output_type": "display_data"
    },
    {
     "data": {
      "application/vnd.jupyter.widget-view+json": {
       "model_id": "",
       "version_major": 2,
       "version_minor": 0
      },
      "text/plain": [
       "Validation: 0it [00:00, ?it/s]"
      ]
     },
     "metadata": {},
     "output_type": "display_data"
    },
    {
     "data": {
      "application/vnd.jupyter.widget-view+json": {
       "model_id": "",
       "version_major": 2,
       "version_minor": 0
      },
      "text/plain": [
       "Validation: 0it [00:00, ?it/s]"
      ]
     },
     "metadata": {},
     "output_type": "display_data"
    },
    {
     "data": {
      "application/vnd.jupyter.widget-view+json": {
       "model_id": "",
       "version_major": 2,
       "version_minor": 0
      },
      "text/plain": [
       "Validation: 0it [00:00, ?it/s]"
      ]
     },
     "metadata": {},
     "output_type": "display_data"
    },
    {
     "data": {
      "application/vnd.jupyter.widget-view+json": {
       "model_id": "",
       "version_major": 2,
       "version_minor": 0
      },
      "text/plain": [
       "Validation: 0it [00:00, ?it/s]"
      ]
     },
     "metadata": {},
     "output_type": "display_data"
    },
    {
     "data": {
      "application/vnd.jupyter.widget-view+json": {
       "model_id": "",
       "version_major": 2,
       "version_minor": 0
      },
      "text/plain": [
       "Validation: 0it [00:00, ?it/s]"
      ]
     },
     "metadata": {},
     "output_type": "display_data"
    },
    {
     "data": {
      "application/vnd.jupyter.widget-view+json": {
       "model_id": "",
       "version_major": 2,
       "version_minor": 0
      },
      "text/plain": [
       "Validation: 0it [00:00, ?it/s]"
      ]
     },
     "metadata": {},
     "output_type": "display_data"
    },
    {
     "data": {
      "application/vnd.jupyter.widget-view+json": {
       "model_id": "",
       "version_major": 2,
       "version_minor": 0
      },
      "text/plain": [
       "Validation: 0it [00:00, ?it/s]"
      ]
     },
     "metadata": {},
     "output_type": "display_data"
    },
    {
     "data": {
      "application/vnd.jupyter.widget-view+json": {
       "model_id": "",
       "version_major": 2,
       "version_minor": 0
      },
      "text/plain": [
       "Validation: 0it [00:00, ?it/s]"
      ]
     },
     "metadata": {},
     "output_type": "display_data"
    },
    {
     "data": {
      "application/vnd.jupyter.widget-view+json": {
       "model_id": "",
       "version_major": 2,
       "version_minor": 0
      },
      "text/plain": [
       "Validation: 0it [00:00, ?it/s]"
      ]
     },
     "metadata": {},
     "output_type": "display_data"
    },
    {
     "data": {
      "application/vnd.jupyter.widget-view+json": {
       "model_id": "",
       "version_major": 2,
       "version_minor": 0
      },
      "text/plain": [
       "Validation: 0it [00:00, ?it/s]"
      ]
     },
     "metadata": {},
     "output_type": "display_data"
    },
    {
     "data": {
      "application/vnd.jupyter.widget-view+json": {
       "model_id": "",
       "version_major": 2,
       "version_minor": 0
      },
      "text/plain": [
       "Validation: 0it [00:00, ?it/s]"
      ]
     },
     "metadata": {},
     "output_type": "display_data"
    },
    {
     "data": {
      "application/vnd.jupyter.widget-view+json": {
       "model_id": "",
       "version_major": 2,
       "version_minor": 0
      },
      "text/plain": [
       "Validation: 0it [00:00, ?it/s]"
      ]
     },
     "metadata": {},
     "output_type": "display_data"
    },
    {
     "data": {
      "application/vnd.jupyter.widget-view+json": {
       "model_id": "",
       "version_major": 2,
       "version_minor": 0
      },
      "text/plain": [
       "Validation: 0it [00:00, ?it/s]"
      ]
     },
     "metadata": {},
     "output_type": "display_data"
    },
    {
     "name": "stderr",
     "output_type": "stream",
     "text": [
      "C:\\Users\\wjn\\AppData\\Local\\Packages\\PythonSoftwareFoundation.Python.3.10_qbz5n2kfra8p0\\LocalCache\\local-packages\\Python310\\site-packages\\pytorch_lightning\\trainer\\trainer.py:653: UserWarning: Detected KeyboardInterrupt, attempting graceful shutdown...\n",
      "  rank_zero_warn(\"Detected KeyboardInterrupt, attempting graceful shutdown...\")\n",
      "Exception ignored in: <function tqdm.__del__ at 0x00000161E1C06170>\n",
      "Traceback (most recent call last):\n",
      "  File \"C:\\Users\\wjn\\AppData\\Local\\Packages\\PythonSoftwareFoundation.Python.3.10_qbz5n2kfra8p0\\LocalCache\\local-packages\\Python310\\site-packages\\tqdm\\std.py\", line 1162, in __del__\n",
      "    self.close()\n",
      "  File \"C:\\Users\\wjn\\AppData\\Local\\Packages\\PythonSoftwareFoundation.Python.3.10_qbz5n2kfra8p0\\LocalCache\\local-packages\\Python310\\site-packages\\tqdm\\notebook.py\", line 293, in close\n",
      "    self.disp(close=True, check_delay=False)\n",
      "AttributeError: 'Tqdm' object has no attribute 'disp'\n",
      "Restoring states from the checkpoint path at logs_csv/lightning_logs\\version_32\\checkpoints\\epoch=99-step=100.ckpt\n",
      "Loaded model weights from checkpoint at logs_csv/lightning_logs\\version_32\\checkpoints\\epoch=99-step=100.ckpt\n",
      "C:\\Users\\wjn\\AppData\\Local\\Packages\\PythonSoftwareFoundation.Python.3.10_qbz5n2kfra8p0\\LocalCache\\local-packages\\Python310\\site-packages\\pytorch_lightning\\trainer\\connectors\\data_connector.py:236: PossibleUserWarning: The dataloader, test_dataloader 0, does not have many workers which may be a bottleneck. Consider increasing the value of the `num_workers` argument` (try 16 which is the number of cpus on this machine) in the `DataLoader` init to improve performance.\n",
      "  rank_zero_warn(\n"
     ]
    },
    {
     "data": {
      "application/vnd.jupyter.widget-view+json": {
       "model_id": "137f68117aee47839f77dae66fce3872",
       "version_major": 2,
       "version_minor": 0
      },
      "text/plain": [
       "Testing: 0it [00:00, ?it/s]"
      ]
     },
     "metadata": {},
     "output_type": "display_data"
    },
    {
     "name": "stderr",
     "output_type": "stream",
     "text": [
      "Restoring states from the checkpoint path at logs_csv/lightning_logs\\version_32\\checkpoints\\epoch=99-step=100.ckpt\n",
      "Loaded model weights from checkpoint at logs_csv/lightning_logs\\version_32\\checkpoints\\epoch=99-step=100.ckpt\n"
     ]
    },
    {
     "name": "stdout",
     "output_type": "stream",
     "text": [
      "────────────────────────────────────────────────────────────────────────────────────────────────────────────────────────\r\n",
      "       Test metric             DataLoader 0\r\n",
      "────────────────────────────────────────────────────────────────────────────────────────────────────────────────────────\r\n",
      "        testloss            14.160529136657715\r\n",
      "────────────────────────────────────────────────────────────────────────────────────────────────────────────────────────\n"
     ]
    },
    {
     "data": {
      "application/vnd.jupyter.widget-view+json": {
       "model_id": "8ccccc8d7c924e37a755db7a2be17203",
       "version_major": 2,
       "version_minor": 0
      },
      "text/plain": [
       "Validation: 0it [00:00, ?it/s]"
      ]
     },
     "metadata": {},
     "output_type": "display_data"
    },
    {
     "name": "stdout",
     "output_type": "stream",
     "text": [
      "────────────────────────────────────────────────────────────────────────────────────────────────────────────────────────\r\n",
      "     Validate metric           DataLoader 0\r\n",
      "────────────────────────────────────────────────────────────────────────────────────────────────────────────────────────\r\n",
      "         valloss             4.381624698638916\r\n",
      "────────────────────────────────────────────────────────────────────────────────────────────────────────────────────────\n"
     ]
    },
    {
     "data": {
      "text/plain": [
       "[{'valloss': 4.381624698638916}]"
      ]
     },
     "execution_count": 15,
     "metadata": {},
     "output_type": "execute_result"
    }
   ],
   "source": [
    "from pytorch_lightning.callbacks import ModelCheckpoint   \n",
    "num_epochs = 2000\n",
    "checkpoint_callback = ModelCheckpoint(save_top_k = -1, save_last = False, every_n_epochs = 100)#100 epochs to save once \n",
    "csv_logger = pl_loggers.CSVLogger('logs_csv/', flush_logs_every_n_steps = 15)\n",
    "trainer = pl.Trainer(max_epochs = num_epochs, log_every_n_steps = 15, logger = csv_logger, callbacks = [checkpoint_callback], accelerator = \"auto\", devices = \"auto\")\n",
    "\n",
    "#trainer = pl.Trainer(max_epochs=num_epochs, logger=csv_logger, gpus=1)\n",
    "n1 = 10\n",
    "n_net = Num_element\n",
    "learning_rate = 1.e-2\n",
    "model = PlNeuralNet(n_net,n1,Num_atom,learning_rate,Num_feature)\n",
    "\n",
    "trainer.fit(model, loader_train, loader_valid)\n",
    "trainer.test(dataloaders = loader_test, ckpt_path = 'best')\n",
    "trainer.validate(dataloaders = loader_valid, ckpt_path = 'best')"
   ]
  },
  {
   "cell_type": "code",
   "execution_count": 43,
   "id": "4a33e38b",
   "metadata": {},
   "outputs": [
    {
     "name": "stdout",
     "output_type": "stream",
     "text": [
      "model.0.0.weight :len torch.Size([1000, 7])\n",
      "model.0.0.bias :len torch.Size([1000])\n",
      "model.0.2.weight :len torch.Size([1000, 1000])\n",
      "model.0.2.bias :len torch.Size([1000])\n",
      "model.0.4.weight :len torch.Size([1, 1000])\n",
      "model.0.4.bias :len torch.Size([1])\n",
      "model.1.0.weight :len torch.Size([1000, 7])\n",
      "model.1.0.bias :len torch.Size([1000])\n",
      "model.1.2.weight :len torch.Size([1000, 1000])\n",
      "model.1.2.bias :len torch.Size([1000])\n",
      "model.1.4.weight :len torch.Size([1, 1000])\n",
      "model.1.4.bias :len torch.Size([1])\n",
      "model.2.0.weight :len torch.Size([1000, 7])\n",
      "model.2.0.bias :len torch.Size([1000])\n",
      "model.2.2.weight :len torch.Size([1000, 1000])\n",
      "model.2.2.bias :len torch.Size([1000])\n",
      "model.2.4.weight :len torch.Size([1, 1000])\n",
      "model.2.4.bias :len torch.Size([1])\n"
     ]
    }
   ],
   "source": [
    "#print NN model parameters\n",
    "for name, parameters in model.named_parameters():\n",
    "        #print(name, ':', parameters,'len',parameters.shape)\n",
    "        print(name, ':len',parameters.shape)"
   ]
  },
  {
   "cell_type": "code",
   "execution_count": 88,
   "id": "82644306",
   "metadata": {
    "ExecuteTime": {
     "end_time": "2022-09-27T16:36:43.136584Z",
     "start_time": "2022-09-27T16:36:42.625692Z"
    },
    "scrolled": true
   },
   "outputs": [
    {
     "data": {
      "text/plain": [
       "Text(0, 0.5, 'Errors')"
      ]
     },
     "execution_count": 88,
     "metadata": {},
     "output_type": "execute_result"
    },
    {
     "data": {
      "image/png": "[encoded data removed]",
      "text/plain": [
       "<Figure size 640x480 with 1 Axes>"
      ]
     },
     "metadata": {},
     "output_type": "display_data"
    }
   ],
   "source": [
    "#plot loss curve\n",
    "import pandas as pd\n",
    "\n",
    "loss_pack = pd.read_csv(\"logs_csv/lightning_logs/version_23/metrics.csv\")\n",
    "loss_valid = loss_pack.valloss.dropna()\n",
    "loss_train = loss_pack.train_loss.dropna()\n",
    "\n",
    "\n",
    "fig, ax = plt.subplots()\n",
    "#ax.semilogy(loss_train,'--',loss_valid,'.')\n",
    "plt.plot(loss_train,'--')\n",
    "plt.ylim(0,3)\n",
    "plt.plot(loss_valid,'.')\n",
    "ax.set_xlabel(\"Epoch\")\n",
    "ax.set_ylabel(\"Errors\")"
   ]
  },
  {
   "cell_type": "code",
   "execution_count": 16,
   "id": "23b2ca71",
   "metadata": {
    "ExecuteTime": {
     "end_time": "2022-09-27T16:22:57.921968Z",
     "start_time": "2022-09-27T16:22:57.891502Z"
    }
   },
   "outputs": [],
   "source": [
    "class NeuralNetwork(nn.Module):\n",
    "    def __init__(self, n_net = 1, n1 = 10,Num_atom=14,Num_feature=3):  #n1 is the number of neurons for the first layer\n",
    "        super().__init__()\n",
    "        subnet = nn.Sequential(\n",
    "            nn.Linear(Num_feature, n1),\n",
    "            nn.Tanh(),\n",
    "            nn.Linear(n1, n1),\n",
    "            nn.Tanh(),\n",
    "            nn.Linear(n1, 1)\n",
    "        )\n",
    "        subnets = [subnet for i in range(n_net)] \n",
    "        self.model = nn.ModuleList(subnets)\n",
    "        self.Num_feature=Num_feature\n",
    "        self.Num_atom=Num_atom\n",
    "\n",
    "\n",
    "    \n",
    "    def forward(self, x):    \n",
    "        b_size, n_atom = x.shape\n",
    "        atomic_E = torch.zeros((b_size, n_atom//self.Num_feature)).to(device)\n",
    "        for i_atom in range(self.Num_atom):\n",
    "            i_subnet = type_list[i_atom]\n",
    "            atomic_E[:,i_atom] = torch.flatten(self.model[i_subnet](x[:,self.Num_feature*i_atom:self.Num_feature*(i_atom+1)]))\n",
    "        Eout  =torch.sum(atomic_E, axis = 1)\n",
    "        return Eout\n",
    "\n",
    "    \n",
    "\n",
    "def train_loop(dataloader, model, lossfn, optimizer, i_epoch):\n",
    "    size = len(dataloader.dataset)\n",
    "    for batch, (input_feature, target) in enumerate(dataloader):\n",
    "        pred = model(input_feature)   # call model.forward()\n",
    "        loss = lossfn(pred.squeeze(), target)\n",
    "    \n",
    "        # Backpropagation\n",
    "        optimizer.zero_grad()\n",
    "        loss.backward()\n",
    "        optimizer.step()\n",
    "        \n",
    "        if batch+1 == ceil(len(dataloader.dataset)/DLparams['batch_size']) and i_epoch % 20 == 0:\n",
    "            loss, current = loss.item(), batch * len(input_feature)\n",
    "            print(f\"epoch: {i_epoch:>4d} loss: {loss:>7.3f}  [{current:>5d}/{size:>5d}]\")"
   ]
  },
  {
   "cell_type": "code",
   "execution_count": 17,
   "id": "ec09cfb6",
   "metadata": {},
   "outputs": [
    {
     "name": "stdout",
     "output_type": "stream",
     "text": [
      "epoch:    0 loss:   6.167  [  540/  750]\n",
      "epoch:   20 loss:   2.986  [  540/  750]\n",
      "epoch:   40 loss:   4.578  [  540/  750]\n",
      "epoch:   60 loss:   4.244  [  540/  750]\n",
      "epoch:   80 loss:   4.314  [  540/  750]\n",
      "epoch:  100 loss:   4.312  [  540/  750]\n",
      "epoch:  120 loss:   5.027  [  540/  750]\n",
      "epoch:  140 loss:   3.815  [  540/  750]\n",
      "epoch:  160 loss:   5.614  [  540/  750]\n",
      "epoch:  180 loss:   3.952  [  540/  750]\n",
      "epoch:  200 loss:   4.156  [  540/  750]\n",
      "epoch:  220 loss:   2.648  [  540/  750]\n",
      "epoch:  240 loss:   3.274  [  540/  750]\n",
      "epoch:  260 loss:   4.335  [  540/  750]\n",
      "epoch:  280 loss:   3.649  [  540/  750]\n",
      "epoch:  300 loss:   2.419  [  540/  750]\n",
      "epoch:  320 loss:   4.724  [  540/  750]\n",
      "epoch:  340 loss:   3.331  [  540/  750]\n",
      "epoch:  360 loss:   3.788  [  540/  750]\n",
      "epoch:  380 loss:   4.208  [  540/  750]\n",
      "epoch:  400 loss:   2.818  [  540/  750]\n",
      "epoch:  420 loss:   6.263  [  540/  750]\n",
      "epoch:  440 loss:   4.123  [  540/  750]\n",
      "epoch:  460 loss:   4.383  [  540/  750]\n",
      "epoch:  480 loss:   3.068  [  540/  750]\n",
      "epoch:  500 loss:   3.887  [  540/  750]\n",
      "epoch:  520 loss:   3.846  [  540/  750]\n",
      "epoch:  540 loss:   3.634  [  540/  750]\n",
      "epoch:  560 loss:   4.811  [  540/  750]\n",
      "epoch:  580 loss:   6.478  [  540/  750]\n",
      "epoch:  600 loss:   2.937  [  540/  750]\n",
      "epoch:  620 loss:   3.597  [  540/  750]\n",
      "epoch:  640 loss:   4.174  [  540/  750]\n",
      "epoch:  660 loss:   4.302  [  540/  750]\n",
      "epoch:  680 loss:   4.155  [  540/  750]\n",
      "epoch:  700 loss:   5.573  [  540/  750]\n",
      "epoch:  720 loss:   3.671  [  540/  750]\n",
      "epoch:  740 loss:   5.171  [  540/  750]\n",
      "epoch:  760 loss:   5.127  [  540/  750]\n",
      "epoch:  780 loss:   3.295  [  540/  750]\n",
      "epoch:  800 loss:   4.892  [  540/  750]\n",
      "epoch:  820 loss:   6.505  [  540/  750]\n",
      "epoch:  840 loss:   5.620  [  540/  750]\n",
      "epoch:  860 loss:   3.794  [  540/  750]\n",
      "epoch:  880 loss:   5.867  [  540/  750]\n",
      "epoch:  900 loss:   4.155  [  540/  750]\n",
      "epoch:  920 loss:   2.672  [  540/  750]\n",
      "epoch:  940 loss:   5.056  [  540/  750]\n",
      "epoch:  960 loss:   2.591  [  540/  750]\n",
      "epoch:  980 loss:   4.661  [  540/  750]\n",
      "epoch: 1000 loss:   6.151  [  540/  750]\n",
      "epoch: 1020 loss:   4.142  [  540/  750]\n",
      "epoch: 1040 loss:   4.890  [  540/  750]\n",
      "epoch: 1060 loss:   3.534  [  540/  750]\n",
      "epoch: 1080 loss:   4.525  [  540/  750]\n",
      "epoch: 1100 loss:   5.176  [  540/  750]\n",
      "epoch: 1120 loss:   4.210  [  540/  750]\n",
      "epoch: 1140 loss:   6.415  [  540/  750]\n",
      "epoch: 1160 loss:   5.475  [  540/  750]\n",
      "epoch: 1180 loss:   2.184  [  540/  750]\n",
      "epoch: 1200 loss:   3.285  [  540/  750]\n",
      "epoch: 1220 loss:   4.142  [  540/  750]\n",
      "epoch: 1240 loss:   4.085  [  540/  750]\n",
      "epoch: 1260 loss:   4.713  [  540/  750]\n",
      "epoch: 1280 loss:   4.396  [  540/  750]\n",
      "epoch: 1300 loss:   5.662  [  540/  750]\n",
      "epoch: 1320 loss:   4.585  [  540/  750]\n",
      "epoch: 1340 loss:   4.615  [  540/  750]\n",
      "epoch: 1360 loss:   4.934  [  540/  750]\n",
      "epoch: 1380 loss:   6.098  [  540/  750]\n",
      "epoch: 1400 loss:   3.243  [  540/  750]\n",
      "epoch: 1420 loss:   5.464  [  540/  750]\n",
      "epoch: 1440 loss:   4.629  [  540/  750]\n",
      "epoch: 1460 loss:   4.359  [  540/  750]\n",
      "epoch: 1480 loss:   3.436  [  540/  750]\n",
      "epoch: 1500 loss:   4.756  [  540/  750]\n",
      "epoch: 1520 loss:   3.431  [  540/  750]\n",
      "epoch: 1540 loss:   2.686  [  540/  750]\n",
      "epoch: 1560 loss:   5.425  [  540/  750]\n",
      "epoch: 1580 loss:   5.800  [  540/  750]\n",
      "epoch: 1600 loss:   5.022  [  540/  750]\n",
      "epoch: 1620 loss:   2.878  [  540/  750]\n",
      "epoch: 1640 loss:   4.977  [  540/  750]\n",
      "epoch: 1660 loss:   5.993  [  540/  750]\n",
      "epoch: 1680 loss:   4.756  [  540/  750]\n",
      "epoch: 1700 loss:   5.087  [  540/  750]\n",
      "epoch: 1720 loss:   4.130  [  540/  750]\n",
      "epoch: 1740 loss:   5.044  [  540/  750]\n",
      "epoch: 1760 loss:   4.862  [  540/  750]\n",
      "epoch: 1780 loss:   3.639  [  540/  750]\n",
      "epoch: 1800 loss:   4.621  [  540/  750]\n",
      "epoch: 1820 loss:   6.047  [  540/  750]\n",
      "epoch: 1840 loss:   5.359  [  540/  750]\n",
      "epoch: 1860 loss:   4.762  [  540/  750]\n",
      "epoch: 1880 loss:   6.533  [  540/  750]\n",
      "epoch: 1900 loss:   3.848  [  540/  750]\n",
      "epoch: 1920 loss:   4.232  [  540/  750]\n",
      "epoch: 1940 loss:   5.215  [  540/  750]\n",
      "epoch: 1960 loss:   3.448  [  540/  750]\n",
      "epoch: 1980 loss:   5.301  [  540/  750]\n",
      "Done with Training!\n"
     ]
    }
   ],
   "source": [
    "# Training of Machine Learning Model without pytorch-lighting\n",
    "learning_rate = 1e-3\n",
    "num_epochs = 2000\n",
    "n_net = Num_element\n",
    "n1 = 10 \n",
    "model = NeuralNetwork(n_net, n1,Num_atom,Num_feature).to(device)\n",
    "lossfn = nn.MSELoss()\n",
    "optimizer = torch.optim.SGD(model.parameters(), lr=learning_rate, momentum=0.9)\n",
    "#optimizer = torch.optim.RMSprop(model.parameters(), lr=learning_rate)\n",
    "#optimizer = torch.optim.Adam(model.parameters(), lr=learning_rate, weight_decay=1.E-5)\n",
    "scheduler = torch.optim.lr_scheduler.ExponentialLR(optimizer, 0.97)\n",
    "\n",
    "for i_epoch in range(num_epochs):\n",
    "    train_loop(loader_train, model, lossfn, optimizer, i_epoch)\n",
    "    scheduler.step()\n",
    "    \n",
    "print(\"Done with Training!\")"
   ]
  },
  {
   "cell_type": "code",
   "execution_count": null,
   "id": "4d12bc5b",
   "metadata": {},
   "outputs": [],
   "source": []
  }
 ],
 "metadata": {
  "kernelspec": {
   "display_name": "Python 3 (ipykernel)",
   "language": "python",
   "name": "python3"
  },
  "language_info": {
   "codemirror_mode": {
    "name": "ipython",
    "version": 3
   },
   "file_extension": ".py",
   "mimetype": "text/x-python",
   "name": "python",
   "nbconvert_exporter": "python",
   "pygments_lexer": "ipython3",
   "version": "3.10.8"
  },
  "latex_envs": {
   "LaTeX_envs_menu_present": true,
   "autoclose": false,
   "autocomplete": true,
   "bibliofile": "biblio.bib",
   "cite_by": "apalike",
   "current_citInitial": 1,
   "eqLabelWithNumbers": true,
   "eqNumInitial": 1,
   "hotkeys": {
    "equation": "Ctrl-E",
    "itemize": "Ctrl-I"
   },
   "labels_anchors": false,
   "latex_user_defs": false,
   "report_style_numbering": false,
   "user_envs_cfg": false
  },
  "toc": {
   "base_numbering": 1,
   "nav_menu": {
    "height": "12px",
    "width": "160px"
   },
   "number_sections": true,
   "sideBar": true,
   "skip_h1_title": false,
   "title_cell": "Table of Contents",
   "title_sidebar": "Contents",
   "toc_cell": false,
   "toc_position": {},
   "toc_section_display": true,
   "toc_window_display": false
  }
 },
 "nbformat": 4,
 "nbformat_minor": 5
}
