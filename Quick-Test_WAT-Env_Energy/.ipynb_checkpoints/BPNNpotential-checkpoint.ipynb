{
 "cells": [
  {
   "cell_type": "markdown",
   "id": "7d369744",
   "metadata": {},
   "source": [
    "**J. Behler and M. Parrinello, Generalized Neural-Network Representation of High-Dimensional Potential-Energy Surfaces, PRL 98, 146401 (2007)**"
   ]
  },
  {
   "cell_type": "markdown",
   "id": "52cd4dab",
   "metadata": {},
   "source": [
    "**Lin Shen, Jingheng Wu, and Weitao Yang, Multiscale Quantum Mechanics/Molecular Mechanics Simulations with Neural Networks，JCTC，12 (10), 4934-4946 (2016)**"
   ]
  },
  {
   "cell_type": "code",
   "execution_count": 1,
   "id": "318484ea",
   "metadata": {
    "ExecuteTime": {
     "end_time": "2022-10-31T23:45:36.482042Z",
     "start_time": "2022-10-31T23:45:17.675124Z"
    }
   },
   "outputs": [],
   "source": [
    "from math import exp, pow, sqrt, tanh, pi, cos, acos, ceil\n",
    "import matplotlib.pyplot as plt\n",
    "from typing import Sequence, Tuple\n",
    "import torch\n",
    "import torch.nn as nn\n",
    "import torch.nn.functional as F\n",
    "from torch import Tensor\n",
    "from torch.utils.data import TensorDataset, DataLoader, random_split\n",
    "import pytorch_lightning as pl\n",
    "import numpy as np\n",
    "import random\n",
    "import itertools\n",
    "from pytorch_lightning import loggers as pl_loggers\n",
    "from sklearn.model_selection import train_test_split\n",
    "import math\n",
    "import sys\n",
    "torch.set_default_dtype(torch.float64) # default is float32"
   ]
  },
  {
   "cell_type": "markdown",
   "id": "c4c4bb53",
   "metadata": {},
   "source": [
    "NN and symmetric function of this quick-test are shown in the figure[1].\n",
    "<img src=\"TOC.jpg\"/>\n",
    "\n",
    "Rij is the distance between QM atom $i$ and $j$, and $R_c$, $R_s$, and $\\eta$ are hyperparameters of NN, $\\theta_{ijk}$ is the angle that consists of atom $i$, $j$, and $k$, $R_{ij}$, $R_{jk}$,and $R_{ik}$ denote the distances between two atoms, and $\\xi$ is another hyperparameter of NN. where $q_l$ and $r_l$ are the point charge and position of MM atom $l$,respectively, and $r_m$ is the position of QM grid $m$.\n",
    "\n",
    "\n",
    "1.Lin Shen and Weitao Yang Journal of Chemical Theory and Computation 2018 14 (3), 1442-1455 DOI: 10.1021/acs.jctc.7b01195\n",
    "\n"
   ]
  },
  {
   "cell_type": "markdown",
   "id": "3d541746",
   "metadata": {},
   "source": [
    "<img src=\"Molecular.jpg\"/>\n",
    "Aliphatic Claisen rearrangement reaction of allyl vinyl ether (AVE) in Explicit water. As a reference, this document shows a training error of 1.95 kcal/mol and a test error of 2.21 kcal/mol."
   ]
  },
  {
   "cell_type": "markdown",
   "id": "3a55d36b",
   "metadata": {},
   "source": [
    "Symmetric function in ANI-1 Model is\n",
    "<img src=\"https://pubs.rsc.org/image/article/2017/sc/c6sc05720a/c6sc05720a-t3_hi-res.gif\" width='390px'/>\n",
    "<img src=\"https://pubs.rsc.org/image/article/2017/sc/c6sc05720a/c6sc05720a-t5_hi-res.gif\"/>\n",
    "\n",
    "2. J.S.Smith, O.Isayev and A.E.Roitberg, Chem. Sci.,2017,8, ANI-1: an extensible neural network potential with DFT accuracy at force field computational cost, Chem.Sci.,2017,8 ,5137—5152 DOI: 10.1039/C6SC05720A\n"
   ]
  },
  {
   "cell_type": "code",
   "execution_count": 2,
   "id": "6e8da734",
   "metadata": {
    "ExecuteTime": {
     "end_time": "2022-10-31T23:45:36.511949Z",
     "start_time": "2022-10-31T23:45:36.486019Z"
    }
   },
   "outputs": [],
   "source": [
    "#Load data \n",
    "# Here We need coords in qm and mm; Energy and atom_type\n",
    "\n",
    "Num_atom     = 14        # 14 atom in qm \n",
    "Num_atom_all = 6041      # all atom include 16 atom in qm area and  2009 H2O in mm area\n",
    "\n",
    "device = torch.device(\"cuda:0\" if torch.cuda.is_available() else \"cpu\") # set device\n",
    "\n",
    "Energy = torch.from_numpy(np.array(np.load(\"energy.npy\"), dtype=\"float64\")) #[Num_config]\n",
    "qm_coords = torch.from_numpy(np.array(np.load(\"qm_coord.npy\"), dtype=\"float64\"))#QM_coord [Num_config,Num_atom,3(xyz)]\n",
    "mm_coords = torch.from_numpy(np.array(np.load(\"env_coord.npy\"), dtype=\"float64\")) #QM_coord [Num_config,Num_atom-Num_atom_all,3(xyz)]\n",
    "atom_types = torch.from_numpy(np.array(np.load(\"element.npy\"), dtype=\"float64\")) #Atom_type [Num_atom_all] as \"C=6,H=1,O=8\"\n",
    "elems = np.unique(atom_types).tolist()\n",
    "atom_types = torch.from_numpy(np.array([elems.index(i) for i in atom_types[:Num_atom]])).to(device)\n",
    "atom_types = atom_types.repeat(len(qm_coords), 1).long() # [Num_config,Num_atom_all]\n",
    "\n",
    "Num_config  = len(Energy)\n",
    "\n",
    "# Scheme to split dataset \n",
    "\n",
    "train_ratio = 0.8      # 95% data to train\n",
    "validation_ratio = 0.2 #  5% data for validation\n",
    "\n",
    "Num_train = int(Num_config * train_ratio) # Number of training set\n",
    "Num_valid= Num_config-Num_train\n",
    "\n",
    "# TIP3P water charge\n",
    "charge_of_water = [-0.834, 0.417, 0.417] # 0,H,H\n",
    "Charge_water = torch.Tensor(np.repeat(np.array(charge_of_water), int((Num_atom_all-Num_atom)/3)).reshape(3,-1).swapaxes(1,0).reshape(-1))\n"
   ]
  },
  {
   "cell_type": "code",
   "execution_count": 3,
   "id": "889638cc",
   "metadata": {
    "ExecuteTime": {
     "end_time": "2022-10-31T23:46:00.571560Z",
     "start_time": "2022-10-31T23:46:00.547627Z"
    }
   },
   "outputs": [],
   "source": [
    "#Package parameters to class\n",
    "class BP_param (object):\n",
    "    def __init__(self):\n",
    "        self.Num_atom = None\n",
    "        self.Num_atom_all = None\n",
    "        self.Num_conf = None\n",
    "        self.Rca      = None\n",
    "        self.Rcr      = None\n",
    "        self.ShfR     = None\n",
    "        self.EtaA     = None\n",
    "        self.EtaR     = None\n",
    "        self.Zeta     = None\n",
    "        self.ShfZ     = None\n",
    "        self.ShfA     = None\n",
    "        self.Charge_water = None\n",
    "        \n",
    "    #def configuration(self, Num_atom, Num_atom_all, Num_config,Rcr, EtaR, ShfR, Rca, Zeta,  EtaA, charge_of_water,ShfZ=None,ShfA=None):\n",
    "    def configuration(self, ParameterDict):\n",
    "        '''specify'''\n",
    "        if 'Num_atom' in  ParameterDict.keys(): self.Num_atom = Num_atom\n",
    "        if 'Num_atom' in  ParameterDict.keys(): self.Num_atom_all = Num_atom_all\n",
    "        if 'Num_atom' in  ParameterDict.keys(): self.Num_conf = Num_config\n",
    "        if 'Rca'  in  ParameterDict.keys(): self.Rca      = Rca   #Rc in G2\n",
    "        if 'Rcr'  in  ParameterDict.keys(): self.Rcr      = Rcr   #Rc in G3\n",
    "        if 'ShfR' in  ParameterDict.keys(): self.ShfR     = torch.Tensor(ShfR)  #Rs in G2\n",
    "        if 'EtaA' in  ParameterDict.keys(): self.EtaA     = torch.Tensor(EtaA)  #Eta  in G3\n",
    "        if 'EtaR' in  ParameterDict.keys(): self.EtaR     = torch.Tensor(EtaR)  #Eta  in G2\n",
    "        if 'Zeta' in  ParameterDict.keys(): self.Zeta     = torch.Tensor(Zeta) #Zeta/Xi in G3\n",
    "        if 'ShfZ' in  ParameterDict.keys(): self.ShfZ     = torch.Tensor(ShfZ)  #Shift Z in ANI model\n",
    "        if 'ShfA' in  ParameterDict.keys(): self.ShfA     = torch.Tensor(ShfA)  #Shift A in ANI model\n",
    "        if 'Charge_water' in  ParameterDict.keys(): self.Charge_water = torch.Tensor(Charge_water)\n"
   ]
  },
  {
   "cell_type": "code",
   "execution_count": 4,
   "id": "cadb7d8d",
   "metadata": {
    "ExecuteTime": {
     "end_time": "2022-10-31T23:46:00.618530Z",
     "start_time": "2022-10-31T23:46:00.607559Z"
    }
   },
   "outputs": [],
   "source": [
    "# load hyperparameter\n",
    "Rcr  = 6.0 #Rc in G2\n",
    "Rca  = 6.0 #Rc in G3\n",
    "ShfR = [element*0.5291772 for element in [2.0,4.0,6.0, 8.0, 10.0]]          #Rs   in G2\n",
    "EtaA = [element/0.5291772**2 for element in [5.00, 0.40, 0.10, 0.03, 0.01]] #Eta  in G3\n",
    "EtaR = [element/0.5291772**2 for element in [5.00,0.40, 0.10, 0.03, 0.01]]  #Eta  in G2\n",
    "Zeta = [14.0]                                                                #Zeta/Xi in G3\n",
    "EtaR, ShfR = np.array(np.meshgrid(EtaR, ShfR)).reshape(2, -1)\n",
    "Zeta, EtaA= np.array(np.meshgrid(Zeta, EtaA)).reshape(2, -1)\n",
    "EtaR = np.repeat([EtaR], 3, axis=0)\n",
    "ShfR = np.repeat([ShfR], 3, axis=0)\n",
    "Zeta = np.repeat([Zeta], 3, axis=0)\n",
    "EtaA = np.repeat([EtaA], 3, axis=0)\n",
    "\n",
    "List_param_key=['Num_atom', 'Num_atom_all', 'Num_config','Rcr', 'EtaR', 'ShfR', 'Rca', 'Zeta',  'EtaA', 'Charge_water']\n",
    "List_param_value=[Num_atom, Num_atom_all, Num_config,Rcr, EtaR, ShfR, Rca, Zeta,  EtaA, Charge_water]\n",
    "ParameterDict = dict(zip(List_param_key, List_param_value))\n",
    "\n",
    "#List_param_key_ani_append=['ShfZ','ShfA'] #ADD ANI param\n",
    "#List_param_value_ani_append=[ShfZ,Shfa]\n",
    "#ParameterDict.update(dict(zip(List_param_key_ani_append, List_param_value_ani_append)))\n",
    "\n",
    "param = BP_param()\n",
    "param.configuration(ParameterDict)"
   ]
  },
  {
   "cell_type": "code",
   "execution_count": 5,
   "id": "0114414c",
   "metadata": {},
   "outputs": [],
   "source": [
    "# symmetric function\n",
    "def self_qm_vector(coords: Tensor) -> Tensor:\n",
    "    num_batches, num_channels, _ = coords.size()\n",
    "    rij = coords[:, :, None] - coords[:, None]\n",
    "    mask = ~torch.eye(num_channels, dtype=torch.bool, device=coords.device) # remove self-interaction\n",
    "    rij = torch.masked_select(rij, mask.unsqueeze(2)).view(num_batches, num_channels, num_channels - 1, 3)\n",
    "    return rij #[Num_config,Num_atom,Num_atom-1,3(xyz)]\n",
    "\n",
    "def qm_mm_vector(coords:Tensor,mm_coords:Tensor ) -> Tensor:\n",
    "    rij_2 = coords[:, :, None] - mm_coords[:, None]\n",
    "    return rij_2 #[Num_config,Num_atom,Num_atom_all-Num_atom,3(xyz)]\n",
    "\n",
    "\n",
    "def symmetry_function_g2(rij: Tensor, Rcr: float, EtaR: Tensor, ShfR: Tensor) -> Tensor:\n",
    "    dij = torch.norm(rij, dim=3)\n",
    "    sij = dij/Rcr\n",
    "    fij = (torch.cos(torch.where(sij>1,1,sij) * math.pi) + 1) * 0.5\n",
    "    g2 = torch.sum(torch.exp(-EtaR.unsqueeze(dim=2) * (dij.unsqueeze(dim=-1) - ShfR.unsqueeze(dim=2))**2) * fij.unsqueeze(dim=-1), dim=2)\n",
    "    \n",
    "    return g2\n",
    "\n",
    "def symmetry_function_g3(rij: Tensor, Rca: float, Zeta: Tensor, EtaA: Tensor) -> Tensor:\n",
    "    c = torch.combinations(torch.arange(rij.size(2)), r=2)\n",
    "    rij = rij[:, :, c]\n",
    "    r12 = rij[:, :, :, 0]\n",
    "    r13 = rij[:, :, :, 1]\n",
    "    r23 = r12 - r13\n",
    "    d12 = torch.norm(r12, dim=3)\n",
    "    d13 = torch.norm(r13, dim=3)\n",
    "    d23 = torch.norm(r23, dim=3)\n",
    "    \n",
    "    #cut if dij>Rca\n",
    "    s12 = d12/Rca\n",
    "    s13 = d13/Rca\n",
    "    s23 = d23/Rca\n",
    "    f12 = (torch.cos(torch.where(s12>1,1,s12) * math.pi) + 1) * 0.5\n",
    "    f13 = (torch.cos(torch.where(s13>1,1,s13)  * math.pi) + 1) * 0.5\n",
    "    f23 = (torch.cos(torch.where(s23>1,1,s23)  * math.pi) + 1) * 0.5\n",
    "\n",
    "    cosine = torch.einsum('ijkl,ijkl->ijk', r12, r13) / (d12 * d13)\n",
    "    g3 = torch.sum(2**(1 - Zeta.unsqueeze(dim=2)) * ((1 + cosine.unsqueeze(dim=-1))**Zeta.unsqueeze(dim=2)) * torch.exp(-EtaA.unsqueeze(dim=2) * (d12**2 + d13**2 + d23**2).unsqueeze(dim=-1)) * (f12 * f13 * f23).unsqueeze(dim=-1), dim=2)\n",
    "\n",
    "    return g3\n",
    "def symmetry_function_gw(rij_env: Tensor,Chargewater:Tensor) -> Tensor:\n",
    "    dij_env = torch.norm(rij_env, dim=3)\n",
    "    gw=torch.sum(Charge_water/dij_env,dim=2).unsqueeze(dim=-1)\n",
    "    return gw    \n"
   ]
  },
  {
   "cell_type": "code",
   "execution_count": 6,
   "id": "76d79ec4",
   "metadata": {
    "ExecuteTime": {
     "end_time": "2022-10-31T23:46:00.650444Z",
     "start_time": "2022-10-31T23:46:00.623516Z"
    }
   },
   "outputs": [],
   "source": [
    "class Feature_BP_molecule(BP_param):\n",
    "    def __init__(self):\n",
    "        super().__init__()\n",
    "        \n",
    "    def Calculate_Feature(self,coords: Tensor, atom_types: Tensor,mm_coords:Tensor,Normalization: bool = True)-> Tensor:\n",
    "        rij = self_qm_vector(coords)\n",
    "        rij_env=qm_mm_vector(coords,mm_coords)\n",
    "        print(rij.shape,rij_env.shape,'x')\n",
    "        #print(ShfR.shape,'shfr')\n",
    "        EtaR = self.EtaR[atom_types]\n",
    "        ShfR = self.ShfR[atom_types]\n",
    "        Zeta = self.Zeta[atom_types]\n",
    "        EtaA = self.EtaA[atom_types]\n",
    "        g2 = symmetry_function_g2(rij, self.Rcr, EtaR, ShfR)\n",
    "        g3 = symmetry_function_g3(rij, self.Rca, Zeta, EtaA)\n",
    "        gv = symmetry_function_gw(rij_env,self.Charge_water)\n",
    "        result=torch.concat((g2,g3,gv), dim=2)\n",
    "        \n",
    "        if Normalization:       \n",
    "            # normalization to [-1,1]\n",
    "            fmax,_ = torch.max(result,0)\n",
    "            fmax = fmax.unsqueeze(dim=0)\n",
    "            fmin,_ = torch.min(result,0)\n",
    "            fmin =fmin.unsqueeze(dim=0)\n",
    "            result=2*(result-fmin)/(fmax-fmin+1.0e-32)-1 # Division is dangerous \n",
    "        \n",
    "        return result\n",
    "    @property\n",
    "    def output_length(self) -> int:\n",
    "        return len(self.EtaR[0]) + len(self.EtaA[0])+1 # g2 + g3 + gv"
   ]
  },
  {
   "cell_type": "code",
   "execution_count": 7,
   "id": "9c3ff1fd",
   "metadata": {},
   "outputs": [
    {
     "name": "stdout",
     "output_type": "stream",
     "text": [
      "torch.Size([1000, 14, 13, 3]) torch.Size([1000, 14, 6027, 3]) x\n"
     ]
    }
   ],
   "source": [
    "#Feature\n",
    "\n",
    "Feature_BP =Feature_BP_molecule()\n",
    "Feature_BP.configuration(ParameterDict)\n",
    "Num_Feature=Feature_BP.output_length\n",
    "descriptor =Feature_BP.Calculate_Feature(qm_coords, atom_types,mm_coords).reshape(-1,Num_atom * Num_Feature)\n",
    "input_feature_train, input_feature_valid,energy_train, energy_valid = train_test_split(descriptor, Energy, test_size=1 - train_ratio)\n"
   ]
  },
  {
   "cell_type": "code",
   "execution_count": 8,
   "id": "70caf97d",
   "metadata": {
    "ExecuteTime": {
     "end_time": "2022-10-31T23:58:00.111593Z",
     "start_time": "2022-10-31T23:57:59.281664Z"
    }
   },
   "outputs": [],
   "source": [
    "#pytorch tensordataset\n",
    "device = torch.device(\"cuda:0\" if torch.cuda.is_available() else \"cpu\")\n",
    "input_train = input_feature_train.to(device)\n",
    "input_valid = input_feature_valid.to(device)\n",
    "output_train = energy_train.to(device)\n",
    "output_valid = energy_valid.to(device)\n",
    "\n",
    "DLparams = {'batch_size': 120,\n",
    "            'shuffle': True}\n",
    "test_DLparams = {'batch_size': Num_valid,\n",
    "                'shuffle': False}\n",
    "\n",
    "dataset_train = TensorDataset(input_train, output_train)\n",
    "dataset_valid = TensorDataset(input_valid, output_valid)\n",
    "\n",
    "loader_train = DataLoader(dataset_train, **DLparams)\n",
    "loader_valid = DataLoader(dataset_valid, **test_DLparams)"
   ]
  },
  {
   "cell_type": "code",
   "execution_count": 9,
   "id": "68392858",
   "metadata": {
    "ExecuteTime": {
     "end_time": "2022-10-31T23:58:00.143566Z",
     "start_time": "2022-10-31T23:58:00.115312Z"
    }
   },
   "outputs": [],
   "source": [
    "#training process\n",
    "class PlNeuralNet(pl.LightningModule):\n",
    "    def __init__(self, n_net=1, n0=3, n1=10, lr=1.e-2):\n",
    "        super().__init__()\n",
    "        subnets = []\n",
    "        for i_net in range(n_net):\n",
    "            subnet = nn.Sequential(\n",
    "                nn.Linear(n0, n1),\n",
    "                nn.Tanh(),\n",
    "                nn.Linear(n1, 1)\n",
    "            )\n",
    "            subnets.append(subnet)\n",
    "            \n",
    "        self.model = nn.ModuleList(subnets)\n",
    "        self.learning_rate = lr\n",
    "\n",
    "    def forward(self, x):    \n",
    "        b_size, n_atom = x.shape\n",
    "        atomic_E = torch.zeros((b_size, n_atom//Num_Feature)).to(device)\n",
    "        for i_atom in range(Num_atom):\n",
    "            i_subnet = atom_types[0,i_atom]\n",
    "            atomic_E[:,i_atom] = torch.flatten(self.model[i_subnet](x[:,Num_Feature*i_atom:Num_Feature*(i_atom+1)]))\n",
    "        Eout  = atomic_E.sum(axis=1)\n",
    "        return Eout\n",
    "\n",
    "\n",
    "    def training_step(self, batch, batch_idx):\n",
    "        xy, z = batch\n",
    "        z_pred = self(xy)\n",
    "        lossfn = nn.MSELoss()\n",
    "        loss = lossfn(z_pred.squeeze(), z)\n",
    "        self.log('train_loss', loss)\n",
    "        return loss\n",
    "    \n",
    "    def validation_step(self, batch, batch_idx):\n",
    "        xy, z = batch\n",
    "        z_pred = self(xy)\n",
    "        lossfn = nn.MSELoss()\n",
    "        lossval = lossfn(z_pred.squeeze(), z)\n",
    "        self.log('valloss', lossval)\n",
    "        return lossval\n",
    "    \n",
    "    def test_step(self, batch, batch_idx):\n",
    "        xy, z = batch\n",
    "        z_pred = self(xy)\n",
    "        lossfn = nn.MSELoss()\n",
    "        losstest = lossfn(z_pred.squeeze(), z)\n",
    "        self.log('testloss', losstest)\n",
    "        return losstest\n",
    "    \n",
    "\n",
    "    def configure_optimizers(self):\n",
    "        optimizer = torch.optim.Adam(self.parameters(), lr=self.learning_rate)\n",
    "        scheduler = {'scheduler': torch.optim.lr_scheduler.ExponentialLR(optimizer, 0.97),\n",
    "                     'interval': 'epoch',\n",
    "                     'frequency': 5,\n",
    "                    }\n",
    "        return [optimizer] #, [scheduler]"
   ]
  },
  {
   "cell_type": "code",
   "execution_count": 10,
   "id": "8ec4c991",
   "metadata": {
    "ExecuteTime": {
     "end_time": "2022-10-31T23:59:13.082099Z",
     "start_time": "2022-10-31T23:58:00.146289Z"
    },
    "scrolled": true
   },
   "outputs": [
    {
     "name": "stderr",
     "output_type": "stream",
     "text": [
      "GPU available: False, used: False\n",
      "TPU available: False, using: 0 TPU cores\n",
      "IPU available: False, using: 0 IPUs\n",
      "HPU available: False, using: 0 HPUs\n",
      "\n",
      "  | Name  | Type       | Params\n",
      "-------------------------------------\n",
      "0 | model | ModuleList | 1.5 K \n",
      "-------------------------------------\n",
      "1.5 K     Trainable params\n",
      "0         Non-trainable params\n",
      "1.5 K     Total params\n",
      "0.006     Total estimated model params size (MB)\n"
     ]
    },
    {
     "name": "stdout",
     "output_type": "stream",
     "text": [
      "n1= 15\n"
     ]
    },
    {
     "data": {
      "application/vnd.jupyter.widget-view+json": {
       "model_id": "",
       "version_major": 2,
       "version_minor": 0
      },
      "text/plain": [
       "Sanity Checking: 0it [00:00, ?it/s]"
      ]
     },
     "metadata": {},
     "output_type": "display_data"
    },
    {
     "name": "stderr",
     "output_type": "stream",
     "text": [
      "C:\\Users\\wjn\\AppData\\Local\\Packages\\PythonSoftwareFoundation.Python.3.10_qbz5n2kfra8p0\\LocalCache\\local-packages\\Python310\\site-packages\\pytorch_lightning\\trainer\\connectors\\data_connector.py:236: PossibleUserWarning: The dataloader, val_dataloader 0, does not have many workers which may be a bottleneck. Consider increasing the value of the `num_workers` argument` (try 16 which is the number of cpus on this machine) in the `DataLoader` init to improve performance.\n",
      "  rank_zero_warn(\n",
      "C:\\Users\\wjn\\AppData\\Local\\Packages\\PythonSoftwareFoundation.Python.3.10_qbz5n2kfra8p0\\LocalCache\\local-packages\\Python310\\site-packages\\pytorch_lightning\\trainer\\connectors\\data_connector.py:236: PossibleUserWarning: The dataloader, train_dataloader, does not have many workers which may be a bottleneck. Consider increasing the value of the `num_workers` argument` (try 16 which is the number of cpus on this machine) in the `DataLoader` init to improve performance.\n",
      "  rank_zero_warn(\n",
      "C:\\Users\\wjn\\AppData\\Local\\Packages\\PythonSoftwareFoundation.Python.3.10_qbz5n2kfra8p0\\LocalCache\\local-packages\\Python310\\site-packages\\pytorch_lightning\\trainer\\trainer.py:1892: PossibleUserWarning: The number of training batches (7) is smaller than the logging interval Trainer(log_every_n_steps=10). Set a lower value for log_every_n_steps if you want to see logs for the training epoch.\n",
      "  rank_zero_warn(\n"
     ]
    },
    {
     "data": {
      "application/vnd.jupyter.widget-view+json": {
       "model_id": "cd56460b08df46e9aed4264a5fa5c204",
       "version_major": 2,
       "version_minor": 0
      },
      "text/plain": [
       "Training: 0it [00:00, ?it/s]"
      ]
     },
     "metadata": {},
     "output_type": "display_data"
    },
    {
     "data": {
      "application/vnd.jupyter.widget-view+json": {
       "model_id": "",
       "version_major": 2,
       "version_minor": 0
      },
      "text/plain": [
       "Validation: 0it [00:00, ?it/s]"
      ]
     },
     "metadata": {},
     "output_type": "display_data"
    },
    {
     "data": {
      "application/vnd.jupyter.widget-view+json": {
       "model_id": "",
       "version_major": 2,
       "version_minor": 0
      },
      "text/plain": [
       "Validation: 0it [00:00, ?it/s]"
      ]
     },
     "metadata": {},
     "output_type": "display_data"
    },
    {
     "data": {
      "application/vnd.jupyter.widget-view+json": {
       "model_id": "",
       "version_major": 2,
       "version_minor": 0
      },
      "text/plain": [
       "Validation: 0it [00:00, ?it/s]"
      ]
     },
     "metadata": {},
     "output_type": "display_data"
    },
    {
     "data": {
      "application/vnd.jupyter.widget-view+json": {
       "model_id": "",
       "version_major": 2,
       "version_minor": 0
      },
      "text/plain": [
       "Validation: 0it [00:00, ?it/s]"
      ]
     },
     "metadata": {},
     "output_type": "display_data"
    },
    {
     "data": {
      "application/vnd.jupyter.widget-view+json": {
       "model_id": "",
       "version_major": 2,
       "version_minor": 0
      },
      "text/plain": [
       "Validation: 0it [00:00, ?it/s]"
      ]
     },
     "metadata": {},
     "output_type": "display_data"
    },
    {
     "data": {
      "application/vnd.jupyter.widget-view+json": {
       "model_id": "",
       "version_major": 2,
       "version_minor": 0
      },
      "text/plain": [
       "Validation: 0it [00:00, ?it/s]"
      ]
     },
     "metadata": {},
     "output_type": "display_data"
    },
    {
     "data": {
      "application/vnd.jupyter.widget-view+json": {
       "model_id": "",
       "version_major": 2,
       "version_minor": 0
      },
      "text/plain": [
       "Validation: 0it [00:00, ?it/s]"
      ]
     },
     "metadata": {},
     "output_type": "display_data"
    },
    {
     "data": {
      "application/vnd.jupyter.widget-view+json": {
       "model_id": "",
       "version_major": 2,
       "version_minor": 0
      },
      "text/plain": [
       "Validation: 0it [00:00, ?it/s]"
      ]
     },
     "metadata": {},
     "output_type": "display_data"
    },
    {
     "data": {
      "application/vnd.jupyter.widget-view+json": {
       "model_id": "",
       "version_major": 2,
       "version_minor": 0
      },
      "text/plain": [
       "Validation: 0it [00:00, ?it/s]"
      ]
     },
     "metadata": {},
     "output_type": "display_data"
    },
    {
     "data": {
      "application/vnd.jupyter.widget-view+json": {
       "model_id": "",
       "version_major": 2,
       "version_minor": 0
      },
      "text/plain": [
       "Validation: 0it [00:00, ?it/s]"
      ]
     },
     "metadata": {},
     "output_type": "display_data"
    },
    {
     "data": {
      "application/vnd.jupyter.widget-view+json": {
       "model_id": "",
       "version_major": 2,
       "version_minor": 0
      },
      "text/plain": [
       "Validation: 0it [00:00, ?it/s]"
      ]
     },
     "metadata": {},
     "output_type": "display_data"
    },
    {
     "data": {
      "application/vnd.jupyter.widget-view+json": {
       "model_id": "",
       "version_major": 2,
       "version_minor": 0
      },
      "text/plain": [
       "Validation: 0it [00:00, ?it/s]"
      ]
     },
     "metadata": {},
     "output_type": "display_data"
    },
    {
     "data": {
      "application/vnd.jupyter.widget-view+json": {
       "model_id": "",
       "version_major": 2,
       "version_minor": 0
      },
      "text/plain": [
       "Validation: 0it [00:00, ?it/s]"
      ]
     },
     "metadata": {},
     "output_type": "display_data"
    },
    {
     "data": {
      "application/vnd.jupyter.widget-view+json": {
       "model_id": "",
       "version_major": 2,
       "version_minor": 0
      },
      "text/plain": [
       "Validation: 0it [00:00, ?it/s]"
      ]
     },
     "metadata": {},
     "output_type": "display_data"
    },
    {
     "data": {
      "application/vnd.jupyter.widget-view+json": {
       "model_id": "",
       "version_major": 2,
       "version_minor": 0
      },
      "text/plain": [
       "Validation: 0it [00:00, ?it/s]"
      ]
     },
     "metadata": {},
     "output_type": "display_data"
    },
    {
     "data": {
      "application/vnd.jupyter.widget-view+json": {
       "model_id": "",
       "version_major": 2,
       "version_minor": 0
      },
      "text/plain": [
       "Validation: 0it [00:00, ?it/s]"
      ]
     },
     "metadata": {},
     "output_type": "display_data"
    },
    {
     "data": {
      "application/vnd.jupyter.widget-view+json": {
       "model_id": "",
       "version_major": 2,
       "version_minor": 0
      },
      "text/plain": [
       "Validation: 0it [00:00, ?it/s]"
      ]
     },
     "metadata": {},
     "output_type": "display_data"
    },
    {
     "data": {
      "application/vnd.jupyter.widget-view+json": {
       "model_id": "",
       "version_major": 2,
       "version_minor": 0
      },
      "text/plain": [
       "Validation: 0it [00:00, ?it/s]"
      ]
     },
     "metadata": {},
     "output_type": "display_data"
    },
    {
     "data": {
      "application/vnd.jupyter.widget-view+json": {
       "model_id": "",
       "version_major": 2,
       "version_minor": 0
      },
      "text/plain": [
       "Validation: 0it [00:00, ?it/s]"
      ]
     },
     "metadata": {},
     "output_type": "display_data"
    },
    {
     "data": {
      "application/vnd.jupyter.widget-view+json": {
       "model_id": "",
       "version_major": 2,
       "version_minor": 0
      },
      "text/plain": [
       "Validation: 0it [00:00, ?it/s]"
      ]
     },
     "metadata": {},
     "output_type": "display_data"
    },
    {
     "data": {
      "application/vnd.jupyter.widget-view+json": {
       "model_id": "",
       "version_major": 2,
       "version_minor": 0
      },
      "text/plain": [
       "Validation: 0it [00:00, ?it/s]"
      ]
     },
     "metadata": {},
     "output_type": "display_data"
    },
    {
     "data": {
      "application/vnd.jupyter.widget-view+json": {
       "model_id": "",
       "version_major": 2,
       "version_minor": 0
      },
      "text/plain": [
       "Validation: 0it [00:00, ?it/s]"
      ]
     },
     "metadata": {},
     "output_type": "display_data"
    },
    {
     "data": {
      "application/vnd.jupyter.widget-view+json": {
       "model_id": "",
       "version_major": 2,
       "version_minor": 0
      },
      "text/plain": [
       "Validation: 0it [00:00, ?it/s]"
      ]
     },
     "metadata": {},
     "output_type": "display_data"
    },
    {
     "data": {
      "application/vnd.jupyter.widget-view+json": {
       "model_id": "",
       "version_major": 2,
       "version_minor": 0
      },
      "text/plain": [
       "Validation: 0it [00:00, ?it/s]"
      ]
     },
     "metadata": {},
     "output_type": "display_data"
    },
    {
     "data": {
      "application/vnd.jupyter.widget-view+json": {
       "model_id": "",
       "version_major": 2,
       "version_minor": 0
      },
      "text/plain": [
       "Validation: 0it [00:00, ?it/s]"
      ]
     },
     "metadata": {},
     "output_type": "display_data"
    },
    {
     "data": {
      "application/vnd.jupyter.widget-view+json": {
       "model_id": "",
       "version_major": 2,
       "version_minor": 0
      },
      "text/plain": [
       "Validation: 0it [00:00, ?it/s]"
      ]
     },
     "metadata": {},
     "output_type": "display_data"
    },
    {
     "data": {
      "application/vnd.jupyter.widget-view+json": {
       "model_id": "",
       "version_major": 2,
       "version_minor": 0
      },
      "text/plain": [
       "Validation: 0it [00:00, ?it/s]"
      ]
     },
     "metadata": {},
     "output_type": "display_data"
    },
    {
     "data": {
      "application/vnd.jupyter.widget-view+json": {
       "model_id": "",
       "version_major": 2,
       "version_minor": 0
      },
      "text/plain": [
       "Validation: 0it [00:00, ?it/s]"
      ]
     },
     "metadata": {},
     "output_type": "display_data"
    },
    {
     "data": {
      "application/vnd.jupyter.widget-view+json": {
       "model_id": "",
       "version_major": 2,
       "version_minor": 0
      },
      "text/plain": [
       "Validation: 0it [00:00, ?it/s]"
      ]
     },
     "metadata": {},
     "output_type": "display_data"
    },
    {
     "data": {
      "application/vnd.jupyter.widget-view+json": {
       "model_id": "",
       "version_major": 2,
       "version_minor": 0
      },
      "text/plain": [
       "Validation: 0it [00:00, ?it/s]"
      ]
     },
     "metadata": {},
     "output_type": "display_data"
    },
    {
     "data": {
      "application/vnd.jupyter.widget-view+json": {
       "model_id": "",
       "version_major": 2,
       "version_minor": 0
      },
      "text/plain": [
       "Validation: 0it [00:00, ?it/s]"
      ]
     },
     "metadata": {},
     "output_type": "display_data"
    },
    {
     "data": {
      "application/vnd.jupyter.widget-view+json": {
       "model_id": "",
       "version_major": 2,
       "version_minor": 0
      },
      "text/plain": [
       "Validation: 0it [00:00, ?it/s]"
      ]
     },
     "metadata": {},
     "output_type": "display_data"
    },
    {
     "data": {
      "application/vnd.jupyter.widget-view+json": {
       "model_id": "",
       "version_major": 2,
       "version_minor": 0
      },
      "text/plain": [
       "Validation: 0it [00:00, ?it/s]"
      ]
     },
     "metadata": {},
     "output_type": "display_data"
    },
    {
     "data": {
      "application/vnd.jupyter.widget-view+json": {
       "model_id": "",
       "version_major": 2,
       "version_minor": 0
      },
      "text/plain": [
       "Validation: 0it [00:00, ?it/s]"
      ]
     },
     "metadata": {},
     "output_type": "display_data"
    },
    {
     "data": {
      "application/vnd.jupyter.widget-view+json": {
       "model_id": "",
       "version_major": 2,
       "version_minor": 0
      },
      "text/plain": [
       "Validation: 0it [00:00, ?it/s]"
      ]
     },
     "metadata": {},
     "output_type": "display_data"
    },
    {
     "data": {
      "application/vnd.jupyter.widget-view+json": {
       "model_id": "",
       "version_major": 2,
       "version_minor": 0
      },
      "text/plain": [
       "Validation: 0it [00:00, ?it/s]"
      ]
     },
     "metadata": {},
     "output_type": "display_data"
    },
    {
     "data": {
      "application/vnd.jupyter.widget-view+json": {
       "model_id": "",
       "version_major": 2,
       "version_minor": 0
      },
      "text/plain": [
       "Validation: 0it [00:00, ?it/s]"
      ]
     },
     "metadata": {},
     "output_type": "display_data"
    },
    {
     "data": {
      "application/vnd.jupyter.widget-view+json": {
       "model_id": "",
       "version_major": 2,
       "version_minor": 0
      },
      "text/plain": [
       "Validation: 0it [00:00, ?it/s]"
      ]
     },
     "metadata": {},
     "output_type": "display_data"
    },
    {
     "data": {
      "application/vnd.jupyter.widget-view+json": {
       "model_id": "",
       "version_major": 2,
       "version_minor": 0
      },
      "text/plain": [
       "Validation: 0it [00:00, ?it/s]"
      ]
     },
     "metadata": {},
     "output_type": "display_data"
    },
    {
     "data": {
      "application/vnd.jupyter.widget-view+json": {
       "model_id": "",
       "version_major": 2,
       "version_minor": 0
      },
      "text/plain": [
       "Validation: 0it [00:00, ?it/s]"
      ]
     },
     "metadata": {},
     "output_type": "display_data"
    },
    {
     "data": {
      "application/vnd.jupyter.widget-view+json": {
       "model_id": "",
       "version_major": 2,
       "version_minor": 0
      },
      "text/plain": [
       "Validation: 0it [00:00, ?it/s]"
      ]
     },
     "metadata": {},
     "output_type": "display_data"
    },
    {
     "data": {
      "application/vnd.jupyter.widget-view+json": {
       "model_id": "",
       "version_major": 2,
       "version_minor": 0
      },
      "text/plain": [
       "Validation: 0it [00:00, ?it/s]"
      ]
     },
     "metadata": {},
     "output_type": "display_data"
    },
    {
     "data": {
      "application/vnd.jupyter.widget-view+json": {
       "model_id": "",
       "version_major": 2,
       "version_minor": 0
      },
      "text/plain": [
       "Validation: 0it [00:00, ?it/s]"
      ]
     },
     "metadata": {},
     "output_type": "display_data"
    },
    {
     "data": {
      "application/vnd.jupyter.widget-view+json": {
       "model_id": "",
       "version_major": 2,
       "version_minor": 0
      },
      "text/plain": [
       "Validation: 0it [00:00, ?it/s]"
      ]
     },
     "metadata": {},
     "output_type": "display_data"
    },
    {
     "data": {
      "application/vnd.jupyter.widget-view+json": {
       "model_id": "",
       "version_major": 2,
       "version_minor": 0
      },
      "text/plain": [
       "Validation: 0it [00:00, ?it/s]"
      ]
     },
     "metadata": {},
     "output_type": "display_data"
    },
    {
     "data": {
      "application/vnd.jupyter.widget-view+json": {
       "model_id": "",
       "version_major": 2,
       "version_minor": 0
      },
      "text/plain": [
       "Validation: 0it [00:00, ?it/s]"
      ]
     },
     "metadata": {},
     "output_type": "display_data"
    },
    {
     "data": {
      "application/vnd.jupyter.widget-view+json": {
       "model_id": "",
       "version_major": 2,
       "version_minor": 0
      },
      "text/plain": [
       "Validation: 0it [00:00, ?it/s]"
      ]
     },
     "metadata": {},
     "output_type": "display_data"
    },
    {
     "data": {
      "application/vnd.jupyter.widget-view+json": {
       "model_id": "",
       "version_major": 2,
       "version_minor": 0
      },
      "text/plain": [
       "Validation: 0it [00:00, ?it/s]"
      ]
     },
     "metadata": {},
     "output_type": "display_data"
    },
    {
     "data": {
      "application/vnd.jupyter.widget-view+json": {
       "model_id": "",
       "version_major": 2,
       "version_minor": 0
      },
      "text/plain": [
       "Validation: 0it [00:00, ?it/s]"
      ]
     },
     "metadata": {},
     "output_type": "display_data"
    },
    {
     "data": {
      "application/vnd.jupyter.widget-view+json": {
       "model_id": "",
       "version_major": 2,
       "version_minor": 0
      },
      "text/plain": [
       "Validation: 0it [00:00, ?it/s]"
      ]
     },
     "metadata": {},
     "output_type": "display_data"
    },
    {
     "data": {
      "application/vnd.jupyter.widget-view+json": {
       "model_id": "",
       "version_major": 2,
       "version_minor": 0
      },
      "text/plain": [
       "Validation: 0it [00:00, ?it/s]"
      ]
     },
     "metadata": {},
     "output_type": "display_data"
    },
    {
     "data": {
      "application/vnd.jupyter.widget-view+json": {
       "model_id": "",
       "version_major": 2,
       "version_minor": 0
      },
      "text/plain": [
       "Validation: 0it [00:00, ?it/s]"
      ]
     },
     "metadata": {},
     "output_type": "display_data"
    },
    {
     "data": {
      "application/vnd.jupyter.widget-view+json": {
       "model_id": "",
       "version_major": 2,
       "version_minor": 0
      },
      "text/plain": [
       "Validation: 0it [00:00, ?it/s]"
      ]
     },
     "metadata": {},
     "output_type": "display_data"
    },
    {
     "data": {
      "application/vnd.jupyter.widget-view+json": {
       "model_id": "",
       "version_major": 2,
       "version_minor": 0
      },
      "text/plain": [
       "Validation: 0it [00:00, ?it/s]"
      ]
     },
     "metadata": {},
     "output_type": "display_data"
    },
    {
     "data": {
      "application/vnd.jupyter.widget-view+json": {
       "model_id": "",
       "version_major": 2,
       "version_minor": 0
      },
      "text/plain": [
       "Validation: 0it [00:00, ?it/s]"
      ]
     },
     "metadata": {},
     "output_type": "display_data"
    },
    {
     "data": {
      "application/vnd.jupyter.widget-view+json": {
       "model_id": "",
       "version_major": 2,
       "version_minor": 0
      },
      "text/plain": [
       "Validation: 0it [00:00, ?it/s]"
      ]
     },
     "metadata": {},
     "output_type": "display_data"
    },
    {
     "data": {
      "application/vnd.jupyter.widget-view+json": {
       "model_id": "",
       "version_major": 2,
       "version_minor": 0
      },
      "text/plain": [
       "Validation: 0it [00:00, ?it/s]"
      ]
     },
     "metadata": {},
     "output_type": "display_data"
    },
    {
     "data": {
      "application/vnd.jupyter.widget-view+json": {
       "model_id": "",
       "version_major": 2,
       "version_minor": 0
      },
      "text/plain": [
       "Validation: 0it [00:00, ?it/s]"
      ]
     },
     "metadata": {},
     "output_type": "display_data"
    },
    {
     "data": {
      "application/vnd.jupyter.widget-view+json": {
       "model_id": "",
       "version_major": 2,
       "version_minor": 0
      },
      "text/plain": [
       "Validation: 0it [00:00, ?it/s]"
      ]
     },
     "metadata": {},
     "output_type": "display_data"
    },
    {
     "data": {
      "application/vnd.jupyter.widget-view+json": {
       "model_id": "",
       "version_major": 2,
       "version_minor": 0
      },
      "text/plain": [
       "Validation: 0it [00:00, ?it/s]"
      ]
     },
     "metadata": {},
     "output_type": "display_data"
    },
    {
     "data": {
      "application/vnd.jupyter.widget-view+json": {
       "model_id": "",
       "version_major": 2,
       "version_minor": 0
      },
      "text/plain": [
       "Validation: 0it [00:00, ?it/s]"
      ]
     },
     "metadata": {},
     "output_type": "display_data"
    },
    {
     "data": {
      "application/vnd.jupyter.widget-view+json": {
       "model_id": "",
       "version_major": 2,
       "version_minor": 0
      },
      "text/plain": [
       "Validation: 0it [00:00, ?it/s]"
      ]
     },
     "metadata": {},
     "output_type": "display_data"
    },
    {
     "data": {
      "application/vnd.jupyter.widget-view+json": {
       "model_id": "",
       "version_major": 2,
       "version_minor": 0
      },
      "text/plain": [
       "Validation: 0it [00:00, ?it/s]"
      ]
     },
     "metadata": {},
     "output_type": "display_data"
    },
    {
     "data": {
      "application/vnd.jupyter.widget-view+json": {
       "model_id": "",
       "version_major": 2,
       "version_minor": 0
      },
      "text/plain": [
       "Validation: 0it [00:00, ?it/s]"
      ]
     },
     "metadata": {},
     "output_type": "display_data"
    },
    {
     "data": {
      "application/vnd.jupyter.widget-view+json": {
       "model_id": "",
       "version_major": 2,
       "version_minor": 0
      },
      "text/plain": [
       "Validation: 0it [00:00, ?it/s]"
      ]
     },
     "metadata": {},
     "output_type": "display_data"
    },
    {
     "data": {
      "application/vnd.jupyter.widget-view+json": {
       "model_id": "",
       "version_major": 2,
       "version_minor": 0
      },
      "text/plain": [
       "Validation: 0it [00:00, ?it/s]"
      ]
     },
     "metadata": {},
     "output_type": "display_data"
    },
    {
     "data": {
      "application/vnd.jupyter.widget-view+json": {
       "model_id": "",
       "version_major": 2,
       "version_minor": 0
      },
      "text/plain": [
       "Validation: 0it [00:00, ?it/s]"
      ]
     },
     "metadata": {},
     "output_type": "display_data"
    },
    {
     "data": {
      "application/vnd.jupyter.widget-view+json": {
       "model_id": "",
       "version_major": 2,
       "version_minor": 0
      },
      "text/plain": [
       "Validation: 0it [00:00, ?it/s]"
      ]
     },
     "metadata": {},
     "output_type": "display_data"
    },
    {
     "data": {
      "application/vnd.jupyter.widget-view+json": {
       "model_id": "",
       "version_major": 2,
       "version_minor": 0
      },
      "text/plain": [
       "Validation: 0it [00:00, ?it/s]"
      ]
     },
     "metadata": {},
     "output_type": "display_data"
    },
    {
     "data": {
      "application/vnd.jupyter.widget-view+json": {
       "model_id": "",
       "version_major": 2,
       "version_minor": 0
      },
      "text/plain": [
       "Validation: 0it [00:00, ?it/s]"
      ]
     },
     "metadata": {},
     "output_type": "display_data"
    },
    {
     "data": {
      "application/vnd.jupyter.widget-view+json": {
       "model_id": "",
       "version_major": 2,
       "version_minor": 0
      },
      "text/plain": [
       "Validation: 0it [00:00, ?it/s]"
      ]
     },
     "metadata": {},
     "output_type": "display_data"
    },
    {
     "data": {
      "application/vnd.jupyter.widget-view+json": {
       "model_id": "",
       "version_major": 2,
       "version_minor": 0
      },
      "text/plain": [
       "Validation: 0it [00:00, ?it/s]"
      ]
     },
     "metadata": {},
     "output_type": "display_data"
    },
    {
     "data": {
      "application/vnd.jupyter.widget-view+json": {
       "model_id": "",
       "version_major": 2,
       "version_minor": 0
      },
      "text/plain": [
       "Validation: 0it [00:00, ?it/s]"
      ]
     },
     "metadata": {},
     "output_type": "display_data"
    },
    {
     "data": {
      "application/vnd.jupyter.widget-view+json": {
       "model_id": "",
       "version_major": 2,
       "version_minor": 0
      },
      "text/plain": [
       "Validation: 0it [00:00, ?it/s]"
      ]
     },
     "metadata": {},
     "output_type": "display_data"
    },
    {
     "data": {
      "application/vnd.jupyter.widget-view+json": {
       "model_id": "",
       "version_major": 2,
       "version_minor": 0
      },
      "text/plain": [
       "Validation: 0it [00:00, ?it/s]"
      ]
     },
     "metadata": {},
     "output_type": "display_data"
    },
    {
     "data": {
      "application/vnd.jupyter.widget-view+json": {
       "model_id": "",
       "version_major": 2,
       "version_minor": 0
      },
      "text/plain": [
       "Validation: 0it [00:00, ?it/s]"
      ]
     },
     "metadata": {},
     "output_type": "display_data"
    },
    {
     "data": {
      "application/vnd.jupyter.widget-view+json": {
       "model_id": "",
       "version_major": 2,
       "version_minor": 0
      },
      "text/plain": [
       "Validation: 0it [00:00, ?it/s]"
      ]
     },
     "metadata": {},
     "output_type": "display_data"
    },
    {
     "data": {
      "application/vnd.jupyter.widget-view+json": {
       "model_id": "",
       "version_major": 2,
       "version_minor": 0
      },
      "text/plain": [
       "Validation: 0it [00:00, ?it/s]"
      ]
     },
     "metadata": {},
     "output_type": "display_data"
    },
    {
     "data": {
      "application/vnd.jupyter.widget-view+json": {
       "model_id": "",
       "version_major": 2,
       "version_minor": 0
      },
      "text/plain": [
       "Validation: 0it [00:00, ?it/s]"
      ]
     },
     "metadata": {},
     "output_type": "display_data"
    },
    {
     "data": {
      "application/vnd.jupyter.widget-view+json": {
       "model_id": "",
       "version_major": 2,
       "version_minor": 0
      },
      "text/plain": [
       "Validation: 0it [00:00, ?it/s]"
      ]
     },
     "metadata": {},
     "output_type": "display_data"
    },
    {
     "data": {
      "application/vnd.jupyter.widget-view+json": {
       "model_id": "",
       "version_major": 2,
       "version_minor": 0
      },
      "text/plain": [
       "Validation: 0it [00:00, ?it/s]"
      ]
     },
     "metadata": {},
     "output_type": "display_data"
    },
    {
     "data": {
      "application/vnd.jupyter.widget-view+json": {
       "model_id": "",
       "version_major": 2,
       "version_minor": 0
      },
      "text/plain": [
       "Validation: 0it [00:00, ?it/s]"
      ]
     },
     "metadata": {},
     "output_type": "display_data"
    },
    {
     "data": {
      "application/vnd.jupyter.widget-view+json": {
       "model_id": "",
       "version_major": 2,
       "version_minor": 0
      },
      "text/plain": [
       "Validation: 0it [00:00, ?it/s]"
      ]
     },
     "metadata": {},
     "output_type": "display_data"
    },
    {
     "data": {
      "application/vnd.jupyter.widget-view+json": {
       "model_id": "",
       "version_major": 2,
       "version_minor": 0
      },
      "text/plain": [
       "Validation: 0it [00:00, ?it/s]"
      ]
     },
     "metadata": {},
     "output_type": "display_data"
    },
    {
     "data": {
      "application/vnd.jupyter.widget-view+json": {
       "model_id": "",
       "version_major": 2,
       "version_minor": 0
      },
      "text/plain": [
       "Validation: 0it [00:00, ?it/s]"
      ]
     },
     "metadata": {},
     "output_type": "display_data"
    },
    {
     "data": {
      "application/vnd.jupyter.widget-view+json": {
       "model_id": "",
       "version_major": 2,
       "version_minor": 0
      },
      "text/plain": [
       "Validation: 0it [00:00, ?it/s]"
      ]
     },
     "metadata": {},
     "output_type": "display_data"
    },
    {
     "data": {
      "application/vnd.jupyter.widget-view+json": {
       "model_id": "",
       "version_major": 2,
       "version_minor": 0
      },
      "text/plain": [
       "Validation: 0it [00:00, ?it/s]"
      ]
     },
     "metadata": {},
     "output_type": "display_data"
    },
    {
     "data": {
      "application/vnd.jupyter.widget-view+json": {
       "model_id": "",
       "version_major": 2,
       "version_minor": 0
      },
      "text/plain": [
       "Validation: 0it [00:00, ?it/s]"
      ]
     },
     "metadata": {},
     "output_type": "display_data"
    },
    {
     "data": {
      "application/vnd.jupyter.widget-view+json": {
       "model_id": "",
       "version_major": 2,
       "version_minor": 0
      },
      "text/plain": [
       "Validation: 0it [00:00, ?it/s]"
      ]
     },
     "metadata": {},
     "output_type": "display_data"
    },
    {
     "data": {
      "application/vnd.jupyter.widget-view+json": {
       "model_id": "",
       "version_major": 2,
       "version_minor": 0
      },
      "text/plain": [
       "Validation: 0it [00:00, ?it/s]"
      ]
     },
     "metadata": {},
     "output_type": "display_data"
    },
    {
     "data": {
      "application/vnd.jupyter.widget-view+json": {
       "model_id": "",
       "version_major": 2,
       "version_minor": 0
      },
      "text/plain": [
       "Validation: 0it [00:00, ?it/s]"
      ]
     },
     "metadata": {},
     "output_type": "display_data"
    },
    {
     "data": {
      "application/vnd.jupyter.widget-view+json": {
       "model_id": "",
       "version_major": 2,
       "version_minor": 0
      },
      "text/plain": [
       "Validation: 0it [00:00, ?it/s]"
      ]
     },
     "metadata": {},
     "output_type": "display_data"
    },
    {
     "data": {
      "application/vnd.jupyter.widget-view+json": {
       "model_id": "",
       "version_major": 2,
       "version_minor": 0
      },
      "text/plain": [
       "Validation: 0it [00:00, ?it/s]"
      ]
     },
     "metadata": {},
     "output_type": "display_data"
    },
    {
     "data": {
      "application/vnd.jupyter.widget-view+json": {
       "model_id": "",
       "version_major": 2,
       "version_minor": 0
      },
      "text/plain": [
       "Validation: 0it [00:00, ?it/s]"
      ]
     },
     "metadata": {},
     "output_type": "display_data"
    },
    {
     "data": {
      "application/vnd.jupyter.widget-view+json": {
       "model_id": "",
       "version_major": 2,
       "version_minor": 0
      },
      "text/plain": [
       "Validation: 0it [00:00, ?it/s]"
      ]
     },
     "metadata": {},
     "output_type": "display_data"
    },
    {
     "data": {
      "application/vnd.jupyter.widget-view+json": {
       "model_id": "",
       "version_major": 2,
       "version_minor": 0
      },
      "text/plain": [
       "Validation: 0it [00:00, ?it/s]"
      ]
     },
     "metadata": {},
     "output_type": "display_data"
    },
    {
     "data": {
      "application/vnd.jupyter.widget-view+json": {
       "model_id": "",
       "version_major": 2,
       "version_minor": 0
      },
      "text/plain": [
       "Validation: 0it [00:00, ?it/s]"
      ]
     },
     "metadata": {},
     "output_type": "display_data"
    },
    {
     "data": {
      "application/vnd.jupyter.widget-view+json": {
       "model_id": "",
       "version_major": 2,
       "version_minor": 0
      },
      "text/plain": [
       "Validation: 0it [00:00, ?it/s]"
      ]
     },
     "metadata": {},
     "output_type": "display_data"
    },
    {
     "data": {
      "application/vnd.jupyter.widget-view+json": {
       "model_id": "",
       "version_major": 2,
       "version_minor": 0
      },
      "text/plain": [
       "Validation: 0it [00:00, ?it/s]"
      ]
     },
     "metadata": {},
     "output_type": "display_data"
    },
    {
     "data": {
      "application/vnd.jupyter.widget-view+json": {
       "model_id": "",
       "version_major": 2,
       "version_minor": 0
      },
      "text/plain": [
       "Validation: 0it [00:00, ?it/s]"
      ]
     },
     "metadata": {},
     "output_type": "display_data"
    },
    {
     "name": "stderr",
     "output_type": "stream",
     "text": [
      "`Trainer.fit` stopped: `max_epochs=100` reached.\n",
      "Restoring states from the checkpoint path at logs_csv/lightning_logs\\version_1\\checkpoints\\epoch=99-step=700.ckpt\n",
      "Loaded model weights from checkpoint at logs_csv/lightning_logs\\version_1\\checkpoints\\epoch=99-step=700.ckpt\n"
     ]
    },
    {
     "data": {
      "application/vnd.jupyter.widget-view+json": {
       "model_id": "da6342bf75334144978a91bc3e8ff6f4",
       "version_major": 2,
       "version_minor": 0
      },
      "text/plain": [
       "Validation: 0it [00:00, ?it/s]"
      ]
     },
     "metadata": {},
     "output_type": "display_data"
    },
    {
     "name": "stdout",
     "output_type": "stream",
     "text": [
      "────────────────────────────────────────────────────────────────────────────────────────────────────────────────────────\r\n",
      "     Validate metric           DataLoader 0\r\n",
      "────────────────────────────────────────────────────────────────────────────────────────────────────────────────────────\r\n",
      "         valloss            0.7580434908681231\r\n",
      "────────────────────────────────────────────────────────────────────────────────────────────────────────────────────────\n"
     ]
    },
    {
     "data": {
      "text/plain": [
       "[{'valloss': 0.7580434908681231}]"
      ]
     },
     "execution_count": 10,
     "metadata": {},
     "output_type": "execute_result"
    }
   ],
   "source": [
    "from pytorch_lightning.callbacks import ModelCheckpoint   \n",
    "num_epochs = 100\n",
    "checkpoint_callback = ModelCheckpoint(save_top_k = -1, save_last = False, every_n_epochs = 10)#100 epochs to save once \n",
    "csv_logger = pl_loggers.CSVLogger('logs_csv/', flush_logs_every_n_steps = 10)\n",
    "trainer = pl.Trainer(max_epochs = num_epochs, log_every_n_steps = 10, logger = csv_logger, callbacks = [checkpoint_callback], accelerator = \"auto\", devices = \"auto\")\n",
    "\n",
    "Num_element=3\n",
    "n1 = Num_Feature // 2 # \n",
    "n_net = Num_element\n",
    "learning_rate = 3.e-2\n",
    "print('n1=',n1)\n",
    "model = PlNeuralNet(n_net, Num_Feature, n1, learning_rate)\n",
    "\n",
    "trainer.fit(model, loader_train, loader_valid)\n",
    "trainer.validate(dataloaders = loader_valid, ckpt_path = 'best')\n"
   ]
  },
  {
   "cell_type": "code",
   "execution_count": 11,
   "id": "09e2f2e9",
   "metadata": {},
   "outputs": [
    {
     "name": "stdout",
     "output_type": "stream",
     "text": [
      "model.0.0.weight \t torch.Size([15, 31])\n",
      "model.0.0.bias \t torch.Size([15])\n",
      "model.0.2.weight \t torch.Size([1, 15])\n",
      "model.0.2.bias \t torch.Size([1])\n",
      "model.1.0.weight \t torch.Size([15, 31])\n",
      "model.1.0.bias \t torch.Size([15])\n",
      "model.1.2.weight \t torch.Size([1, 15])\n",
      "model.1.2.bias \t torch.Size([1])\n",
      "model.2.0.weight \t torch.Size([15, 31])\n",
      "model.2.0.bias \t torch.Size([15])\n",
      "model.2.2.weight \t torch.Size([1, 15])\n",
      "model.2.2.bias \t torch.Size([1])\n"
     ]
    }
   ],
   "source": [
    "#print param\n",
    "\n",
    "for param_tensor in model.state_dict():\n",
    "    print(param_tensor, \"\\t\", model.state_dict()[param_tensor].size())\n",
    "    #print(param_tensor, \"\\t\", model.state_dict()[param_tensor])"
   ]
  },
  {
   "cell_type": "code",
   "execution_count": 12,
   "id": "82644306",
   "metadata": {
    "ExecuteTime": {
     "end_time": "2022-10-31T23:59:15.610084Z",
     "start_time": "2022-10-31T23:59:13.089087Z"
    }
   },
   "outputs": [
    {
     "data": {
      "text/plain": [
       "Text(0, 0.5, 'Errors')"
      ]
     },
     "execution_count": 12,
     "metadata": {},
     "output_type": "execute_result"
    },
    {
     "data": {
      "image/png": "[encoded data removed]",
      "text/plain": [
       "<Figure size 640x480 with 1 Axes>"
      ]
     },
     "metadata": {},
     "output_type": "display_data"
    }
   ],
   "source": [
    "#plot \n",
    "import pandas as pd\n",
    "\n",
    "loss_pack = pd.read_csv(\"logs_csv/lightning_logs/version_1/metrics.csv\")\n",
    "loss_valid = loss_pack.valloss.dropna()\n",
    "loss_train = loss_pack.train_loss.dropna()\n",
    "\n",
    "\n",
    "fig, ax = plt.subplots()\n",
    "ax.semilogy(loss_train,'--',loss_valid,'.')\n",
    "ax.set_xlabel(\"Nstep\")\n",
    "ax.set_ylabel(\"Errors\")\n",
    "# Show the predicted surface, and compare to the reference one"
   ]
  },
  {
   "cell_type": "code",
   "execution_count": 19,
   "id": "eb2b556f",
   "metadata": {},
   "outputs": [
    {
     "name": "stdout",
     "output_type": "stream",
     "text": [
      "Corrcoef is  0.8853915202606875\n"
     ]
    },
    {
     "data": {
      "image/png": "[encoded data removed]",
      "text/plain": [
       "<Figure size 600x500 with 1 Axes>"
      ]
     },
     "metadata": {},
     "output_type": "display_data"
    }
   ],
   "source": [
    "import matplotlib.pyplot as plt\n",
    "\n",
    "e2=model.forward(descriptor).detach().numpy()\n",
    "fig, ax = plt.subplots(figsize=(6,5))\n",
    "\n",
    "e1 = Energy.cpu().detach().numpy()\n",
    "Coef=np.corrcoef(e1,e2)\n",
    "print('Corrcoef is ',Coef[0,1])\n",
    "\n",
    "ax.plot(e1, e2, linestyle='none', marker='.', )\n",
    "ax.plot([np.max(np.concatenate((e1,e2))), -np.max(np.concatenate((e1,e2)))], [np.max(np.concatenate((e1,e2))), -np.max(np.concatenate((e1,e2)))], color=\"k\", linewidth=1.5)\n",
    "ax.set_xlabel(\"Reference Energy (kcal/mol)\", size=14)\n",
    "ax.set_ylabel(\"Predicted Energy (kcal/mol)\", size=14)\n",
    "ax.annotate('RMSD: %.3f' % np.sqrt(np.mean((e1 - e2)**2)), xy=(0.05, 0.95), xycoords='axes fraction', size=14)\n",
    "\n",
    "\n",
    "e2=model.forward(descriptor).detach().numpy()\n",
    "e1 = Energy.cpu().detach().numpy()\n",
    "Coef=np.corrcoef(e1,e2)\n",
    "\n"
   ]
  },
  {
   "cell_type": "code",
   "execution_count": 17,
   "id": "23b2ca71",
   "metadata": {
    "ExecuteTime": {
     "end_time": "2022-10-31T23:59:15.641151Z",
     "start_time": "2022-10-31T23:59:15.613080Z"
    }
   },
   "outputs": [],
   "source": [
    "class NeuralNetwork(nn.Module):\n",
    "    def __init__(self, n_net=1, n0=3, n1=10):  #n1 is the number of neurons for the first layer\n",
    "        super().__init__()\n",
    "        subnets = []\n",
    "        for i_net in range(n_net):\n",
    "            subnet = nn.Sequential(\n",
    "                nn.Linear(n0, n1),\n",
    "                nn.Tanh(),\n",
    "#                nn.Linear(n1, n1),\n",
    "#                nn.Tanh(),\n",
    "                nn.Linear(n1, 1)\n",
    "            )\n",
    "            subnets.append(subnet)\n",
    "        self.model = nn.ModuleList(subnets)\n",
    "\n",
    "    def forward(self, x):\n",
    "        b_size, n_atom = x.shape\n",
    "        atomic_E = torch.zeros((b_size, n_atom//Num_Feature)).to(device)\n",
    "        for i_atom in range(Num_atom):\n",
    "            i_subnet = atom_types[0,i_atom]\n",
    "            atomic_E[:,i_atom] = torch.flatten(self.model[i_subnet](x[:,Num_Feature*i_atom:Num_Feature*(i_atom+1)]))\n",
    "        Eout  = torch.sum(atomic_E, axis = 1)\n",
    "        return Eout\n",
    "\n",
    "def train_loop(dataloader, model, lossfn, optimizer, i_epoch):\n",
    "    size = len(dataloader.dataset)\n",
    "    for batch, (input_feature, target) in enumerate(dataloader):\n",
    "        pred = model(input_feature)   # call model.forward()\n",
    "        loss = lossfn(pred.squeeze(), target)\n",
    "    \n",
    "        # Backpropagation\n",
    "        optimizer.zero_grad()\n",
    "        loss.backward()\n",
    "        optimizer.step()\n",
    "        \n",
    "        if batch+1 == ceil(len(dataloader.dataset)/DLparams['batch_size']) and i_epoch % 10 == 0:\n",
    "            loss, current = loss.item(), batch * len(input_feature)\n",
    "            print(f\"epoch: {i_epoch:>4d} loss: {loss:>7.3f}  [{current:>5d}/{size:>5d}]\")"
   ]
  },
  {
   "cell_type": "code",
   "execution_count": 18,
   "id": "67920b2b",
   "metadata": {
    "ExecuteTime": {
     "end_time": "2022-10-31T23:59:46.229502Z",
     "start_time": "2022-10-31T23:59:15.645140Z"
    }
   },
   "outputs": [
    {
     "name": "stdout",
     "output_type": "stream",
     "text": [
      "epoch:    0 loss:   2.878  [  480/  800]\n",
      "epoch:   10 loss:   1.363  [  480/  800]\n",
      "epoch:   20 loss:   0.665  [  480/  800]\n",
      "epoch:   30 loss:   0.795  [  480/  800]\n",
      "epoch:   40 loss:   0.866  [  480/  800]\n",
      "epoch:   50 loss:   0.470  [  480/  800]\n",
      "epoch:   60 loss:   0.656  [  480/  800]\n",
      "epoch:   70 loss:   0.582  [  480/  800]\n",
      "epoch:   80 loss:   0.591  [  480/  800]\n",
      "epoch:   90 loss:   0.444  [  480/  800]\n",
      "Done with Training!\n"
     ]
    }
   ],
   "source": [
    "# Training of Machine Learning Model\n",
    "learning_rate = 3e-2\n",
    "num_epochs = 100\n",
    "n_net = Num_element\n",
    "n1 = Num_Feature // 2\n",
    "model = NeuralNetwork(n_net, Num_Feature, n1).to(device)\n",
    "lossfn = nn.MSELoss()\n",
    "#optimizer = torch.optim.SGD(model.parameters(), lr=learning_rate, momentum=0.9)\n",
    "#optimizer = torch.optim.RMSprop(model.parameters(), lr=learning_rate)\n",
    "optimizer = torch.optim.Adam(model.parameters(), lr=learning_rate, weight_decay=1.E-5)\n",
    "scheduler = torch.optim.lr_scheduler.ExponentialLR(optimizer, 0.97)\n",
    "\n",
    "for i_epoch in range(num_epochs):\n",
    "    train_loop(loader_train, model, lossfn, optimizer, i_epoch)\n",
    "    scheduler.step()\n",
    "    \n",
    "print(\"Done with Training!\")"
   ]
  },
  {
   "cell_type": "code",
   "execution_count": null,
   "id": "569d829f",
   "metadata": {},
   "outputs": [],
   "source": []
  }
 ],
 "metadata": {
  "kernelspec": {
   "display_name": "Python 3 (ipykernel)",
   "language": "python",
   "name": "python3"
  },
  "language_info": {
   "codemirror_mode": {
    "name": "ipython",
    "version": 3
   },
   "file_extension": ".py",
   "mimetype": "text/x-python",
   "name": "python",
   "nbconvert_exporter": "python",
   "pygments_lexer": "ipython3",
   "version": "3.10.8"
  },
  "latex_envs": {
   "LaTeX_envs_menu_present": true,
   "autoclose": false,
   "autocomplete": true,
   "bibliofile": "biblio.bib",
   "cite_by": "apalike",
   "current_citInitial": 1,
   "eqLabelWithNumbers": true,
   "eqNumInitial": 1,
   "hotkeys": {
    "equation": "Ctrl-E",
    "itemize": "Ctrl-I"
   },
   "labels_anchors": false,
   "latex_user_defs": false,
   "report_style_numbering": false,
   "user_envs_cfg": false
  },
  "toc": {
   "base_numbering": 1,
   "nav_menu": {
    "height": "12px",
    "width": "160px"
   },
   "number_sections": true,
   "sideBar": true,
   "skip_h1_title": false,
   "title_cell": "Table of Contents",
   "title_sidebar": "Contents",
   "toc_cell": false,
   "toc_position": {},
   "toc_section_display": true,
   "toc_window_display": false
  }
 },
 "nbformat": 4,
 "nbformat_minor": 5
}
